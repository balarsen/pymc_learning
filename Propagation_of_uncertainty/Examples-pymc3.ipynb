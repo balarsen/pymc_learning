{
 "cells": [
  {
   "cell_type": "markdown",
   "metadata": {},
   "source": [
    "# Examles of error propigation\n",
    "Examples are taken from http://ipl.physics.harvard.edu/wp-uploads/2013/03/PS3_Error_Propagation_sp13.pdf and used on MCMC to show how the answers work"
   ]
  },
  {
   "cell_type": "markdown",
   "metadata": {},
   "source": [
    "## Example 1"
   ]
  },
  {
   "cell_type": "markdown",
   "metadata": {},
   "source": [
    "Example: suppose you measure the height H of a door and get 2.00 ± 0.03 m. This means that\n",
    "H = 2.00 m and δH = 0.03 m. The door has a knob which is a height h = 0.88 ± 0.04 m from the bottom\n",
    "of the door. Then the distance from the doorknob to the top of the door is Q = H − h = 1.12 m. What\n",
    "is the uncertainty in Q?\n",
    "\n",
    "Q = 1.12 ± 0.05 m\n"
   ]
  },
  {
   "cell_type": "code",
   "execution_count": 1,
   "metadata": {},
   "outputs": [
    {
     "name": "stderr",
     "output_type": "stream",
     "text": [
      "/Users/balarsen/miniconda3/lib/python3.6/site-packages/h5py/__init__.py:36: FutureWarning: Conversion of the second argument of issubdtype from `float` to `np.floating` is deprecated. In future, it will be treated as `np.float64 == np.dtype(float).type`.\n",
      "  from ._conv import register_converters as _register_converters\n"
     ]
    }
   ],
   "source": [
    "import numpy as np\n",
    "import pymc3 as mc"
   ]
  },
  {
   "cell_type": "code",
   "execution_count": 2,
   "metadata": {},
   "outputs": [
    {
     "name": "stderr",
     "output_type": "stream",
     "text": [
      "logp = 4.8876, ||grad|| = 0: 100%|██████████| 2/2 [00:00<00:00, 837.86it/s]\n",
      "Auto-assigning NUTS sampler...\n",
      "Initializing NUTS using jitter+adapt_diag...\n",
      "Multiprocess sampling (4 chains in 4 jobs)\n",
      "NUTS: [h, H]\n",
      "100%|██████████| 10500/10500.0 [00:06<00:00, 1564.61it/s]\n"
     ]
    }
   ],
   "source": [
    "model = mc.Model()\n",
    "\n",
    "with model:\n",
    "\n",
    "    H = mc.Normal('H', 2.00, tau=(0.03)**-2)\n",
    "    h = mc.Normal('h', 0.88, tau=(0.04)**-2)\n",
    "    Q = mc.Deterministic('Q', H-h)\n",
    "    start = mc.find_MAP()\n",
    "    trace = mc.sample(1e4, njobs=4, start=start)\n",
    "\n",
    "    "
   ]
  },
  {
   "cell_type": "code",
   "execution_count": null,
   "metadata": {},
   "outputs": [],
   "source": [
    "mc.traceplot(trace, combined=True, lines={'H':2, 'h':0.88, 'Q':2-0.88})\n",
    "mc.summary(trace)\n",
    "print(\"MCMC gives {0:.2f} +/- {1:.2f}, analytic gives {2} +/- {3}\".format(trace['Q'].mean(), \n",
    "                                                                          trace['Q'].std(), 1.12, 0.05))"
   ]
  },
  {
   "cell_type": "markdown",
   "metadata": {},
   "source": [
    "## Example 2"
   ]
  },
  {
   "cell_type": "markdown",
   "metadata": {},
   "source": [
    "Example: a bird flies a distance d = 120 ± 3 m during a time t = 20.0 ± 1.2 s. The average speed of\n",
    "the bird is v = d/t = 6 m/s. What is the uncertainty of v?\n",
    "\n",
    "0.39 m/s."
   ]
  },
  {
   "cell_type": "code",
   "execution_count": null,
   "metadata": {},
   "outputs": [],
   "source": [
    "with mc.Model() as model:\n",
    "    d = mc.Normal('d', 123, tau=(3)**-2)\n",
    "    t = mc.Normal('t', 20.0, tau=(1.2)**-2)\n",
    "    v = mc.Deterministic('v', d/t)\n",
    "    start = mc.find_MAP()\n",
    "    trace = mc.sample(40000, njobs=4, start=start)"
   ]
  },
  {
   "cell_type": "code",
   "execution_count": null,
   "metadata": {},
   "outputs": [],
   "source": [
    "mc.summary(trace)\n",
    "mc.traceplot(trace, combined=True, lines={'d':123, 't':20, 'v':6})\n",
    "print(\"MCMC gives {0:.2f}, analytic gives {1}\".format(trace['v'].std(), 0.39))"
   ]
  },
  {
   "cell_type": "markdown",
   "metadata": {},
   "source": [
    "## Example 3"
   ]
  },
  {
   "cell_type": "markdown",
   "metadata": {},
   "source": [
    "Example: the period of an oscillation is measured to be T = 0.20 ± 0.01 s. Thus the frequency is\n",
    "f = 1/T = 5 Hz. What is the uncertainty in f? Answer: the percent uncertainty in T was 0.01/0.20 = 5%.\n",
    "Thus the percent uncertainty in f is also 5%, which means that δf = 0.25 Hz. So f = 5.0 ± 0.3 Hz (after\n",
    "rounding).\n",
    "\n",
    "f = 5.0 ± 0.3 Hz"
   ]
  },
  {
   "cell_type": "code",
   "execution_count": null,
   "metadata": {},
   "outputs": [],
   "source": [
    "with mc.Model() as model:\n",
    "    T = mc.Normal('T', 0.20, tau=(0.01)**-2)\n",
    "\n",
    "    mc.Deterministic('1/T', 1/T)\n",
    "    start = mc.find_MAP()\n",
    "\n",
    "    trace = mc.sample(1e4, burn=100, burn_till_tuned=True, start=start)\n"
   ]
  },
  {
   "cell_type": "code",
   "execution_count": null,
   "metadata": {},
   "outputs": [],
   "source": [
    "mc.traceplot(trace, combined=True)"
   ]
  },
  {
   "cell_type": "code",
   "execution_count": null,
   "metadata": {},
   "outputs": [],
   "source": [
    "print(mc.summary(trace))\n",
    "print(\"MCMC gives {0:.1f} +/- {1:.1f}, analytic gives {2} +/- {3}\".format(np.mean(trace['1/T']), \n",
    "                                                                          np.std(trace['1/T']), \n",
    "                                                                          5.0, 0.3))\n"
   ]
  },
  {
   "cell_type": "markdown",
   "metadata": {},
   "source": [
    "## Example 4"
   ]
  },
  {
   "cell_type": "markdown",
   "metadata": {},
   "source": [
    "Example: a ball is tossed straight up into the air with initial speed v0 = 4.0 ± 0.2 m/s. After a time\n",
    "t = 0.60±0.06 s, the height of the ball is y = v0t−\n",
    "1\n",
    "2\n",
    "gt2 = 0.636 m. What is the uncertainty of y? Assume\n",
    "g = 9.80 m/s2\n",
    "(no uncertainty in g).\n",
    "\n",
    "Thus y would be properly reported as 0.6 ± 0.4 m."
   ]
  },
  {
   "cell_type": "code",
   "execution_count": null,
   "metadata": {},
   "outputs": [],
   "source": [
    "with mc.Model() as model:\n",
    "    g = 9.80\n",
    "    t = mc.Normal('t', 0.60, tau=(0.06)**-2)\n",
    "    v0 = mc.Normal('v0', 4.0, tau=(0.2)**-2)\n",
    "\n",
    "    h = mc.Deterministic('h', v0*t - 0.5*g*t**2)\n",
    "    start = mc.find_MAP()\n",
    "\n",
    "    trace = mc.sample(1e4, burn=100, burn_till_tuned=True, start=start)\n",
    "\n"
   ]
  },
  {
   "cell_type": "code",
   "execution_count": null,
   "metadata": {},
   "outputs": [],
   "source": [
    "mc.traceplot(trace, combined=True)"
   ]
  },
  {
   "cell_type": "code",
   "execution_count": null,
   "metadata": {},
   "outputs": [],
   "source": [
    "print(mc.summary(trace))\n",
    "print(\"MCMC gives {0:.1f} +/- {1:.1f}, analytic gives {2} +/- {3}\".format(np.mean(trace['h']), \n",
    "                                                                          np.std(trace['h']), \n",
    "                                                                          0.6, 0.4))\n"
   ]
  },
  {
   "cell_type": "markdown",
   "metadata": {},
   "source": [
    "## Example 5\n",
    "For example, suppose Ann and Billy both measure the speed of a moving ball. Ann measures 3.6±0.2 m/s\n",
    "and Billy gets 3.3 ± 0.3 m/s. Do the two measurements agree?\n",
    "\n",
    "D = 0.3 ± 0.4 m/s  so 0 is in the range, they do agree."
   ]
  },
  {
   "cell_type": "code",
   "execution_count": null,
   "metadata": {},
   "outputs": [],
   "source": [
    "with mc.Model() as model:\n",
    "\n",
    "    A = mc.Normal('A', 3.6, tau=(0.2)**-2)\n",
    "    B = mc.Normal('B', 3.3, tau=(0.3)**-2)\n",
    "\n",
    "    D = mc.Deterministic('D', A-B)\n",
    "    start = mc.find_MAP()\n",
    "\n",
    "    trace = mc.sample(1e4, burn=100, burn_till_tuned=True, start=start)\n",
    "\n"
   ]
  },
  {
   "cell_type": "code",
   "execution_count": null,
   "metadata": {},
   "outputs": [],
   "source": [
    "mc.traceplot(trace, combined=True);"
   ]
  },
  {
   "cell_type": "code",
   "execution_count": null,
   "metadata": {},
   "outputs": [],
   "source": [
    "print(mc.summary(trace))\n",
    "print(\"MCMC gives {0:.1f} +/- {1:.1f}, analytic gives {2} +/- {3}\".format(np.mean(trace['D']), \n",
    "                                                                          np.std(trace['D']), \n",
    "                                                                          0.3, 0.4))\n",
    "# mc.Matplot.plot(model)"
   ]
  },
  {
   "cell_type": "code",
   "execution_count": null,
   "metadata": {},
   "outputs": [],
   "source": []
  }
 ],
 "metadata": {
  "anaconda-cloud": {},
  "kernelspec": {
   "display_name": "Python 3",
   "language": "python",
   "name": "python3"
  },
  "language_info": {
   "codemirror_mode": {
    "name": "ipython",
    "version": 3
   },
   "file_extension": ".py",
   "mimetype": "text/x-python",
   "name": "python",
   "nbconvert_exporter": "python",
   "pygments_lexer": "ipython3",
   "version": "3.6.4"
  }
 },
 "nbformat": 4,
 "nbformat_minor": 1
}
