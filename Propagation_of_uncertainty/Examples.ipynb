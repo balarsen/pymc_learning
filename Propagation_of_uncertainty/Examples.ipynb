{
 "cells": [
  {
   "cell_type": "markdown",
   "metadata": {},
   "source": [
    "# Examles of error propigation\n",
    "Examples are taken from http://ipl.physics.harvard.edu/wp-uploads/2013/03/PS3_Error_Propagation_sp13.pdf and used on MCMC to show how the answers work"
   ]
  },
  {
   "cell_type": "markdown",
   "metadata": {},
   "source": [
    "## Example 1"
   ]
  },
  {
   "cell_type": "markdown",
   "metadata": {},
   "source": [
    "Example: suppose you measure the height H of a door and get 2.00 ± 0.03 m. This means that\n",
    "H = 2.00 m and δH = 0.03 m. The door has a knob which is a height h = 0.88 ± 0.04 m from the bottom\n",
    "of the door. Then the distance from the doorknob to the top of the door is Q = H − h = 1.12 m. What\n",
    "is the uncertainty in Q?\n",
    "\n",
    "Q = 1.12 ± 0.05 m\n"
   ]
  },
  {
   "cell_type": "code",
   "execution_count": 1,
   "metadata": {
    "collapsed": true
   },
   "outputs": [],
   "source": [
    "import numpy as np\n",
    "import pymc as mc"
   ]
  },
  {
   "cell_type": "code",
   "execution_count": 10,
   "metadata": {
    "collapsed": false
   },
   "outputs": [],
   "source": [
    "H = mc.Normal('H', 2.00, (0.03)**-2)\n",
    "h = mc.Normal('h', 0.88, (0.04)**-2)\n",
    "\n",
    "@mc.deterministic()\n",
    "def Q(H=H, h=h):\n",
    "    return H-h\n",
    "\n",
    "model = mc.MCMC((H,h,Q))"
   ]
  },
  {
   "cell_type": "code",
   "execution_count": 50,
   "metadata": {
    "collapsed": false
   },
   "outputs": [
    {
     "name": "stdout",
     "output_type": "stream",
     "text": [
      " [-----------------100%-----------------] 14900 of 14900 complete in 0.9 sec\n",
      "Q:\n",
      " \n",
      "\tMean             SD               MC Error        95% HPD interval\n",
      "\t------------------------------------------------------------------\n",
      "\t1.119            0.05             0.001            [ 1.017  1.213]\n",
      "\t\n",
      "\t\n",
      "\tPosterior quantiles:\n",
      "\t\n",
      "\t2.5             25              50              75             97.5\n",
      "\t |---------------|===============|===============|---------------|\n",
      "\t1.022            1.086           1.12           1.153         1.218\n",
      "\t\n",
      "None\n",
      "MCMC gives 1.12 +/- 0.05, analytic gives 1.12 +/- 0.05\n"
     ]
    },
    {
     "name": "stderr",
     "output_type": "stream",
     "text": [
      "/Users/blarsen/miniconda3/envs/python3/lib/python3.5/site-packages/numpy/core/fromnumeric.py:225: VisibleDeprecationWarning: using a non-integer number instead of an integer will result in an error in the future\n",
      "  return reshape(newshape, order=order)\n"
     ]
    }
   ],
   "source": [
    "model.sample(1e4, burn=100, burn_till_tuned=True)\n",
    "# mc.Matplot.plot(model)\n",
    "# mc.Matplot.plot(Q)\n",
    "print(Q.summary())\n",
    "print(\"MCMC gives {0:.2f} +/- {1:.2f}, analytic gives {2} +/- {3}\".format(np.mean(Q.trace()), np.std(Q.trace()), 1.12, 0.05))"
   ]
  },
  {
   "cell_type": "markdown",
   "metadata": {},
   "source": [
    "## Example 2"
   ]
  },
  {
   "cell_type": "markdown",
   "metadata": {},
   "source": [
    "Example: a bird flies a distance d = 120 ± 3 m during a time t = 20.0 ± 1.2 s. The average speed of\n",
    "the bird is v = d/t = 6 m/s. What is the uncertainty of v?\n",
    "\n",
    "0.39 m/s."
   ]
  },
  {
   "cell_type": "code",
   "execution_count": 12,
   "metadata": {
    "collapsed": true
   },
   "outputs": [],
   "source": [
    "d = mc.Normal('d', 123, (3)**-2)\n",
    "t = mc.Normal('t', 20.0, (1.2)**-2)\n",
    "\n",
    "@mc.deterministic()\n",
    "def v(d=d, t=t):\n",
    "    return d/t\n",
    "\n",
    "model = mc.MCMC((d, t, v))"
   ]
  },
  {
   "cell_type": "code",
   "execution_count": 14,
   "metadata": {
    "collapsed": false
   },
   "outputs": [
    {
     "name": "stdout",
     "output_type": "stream",
     "text": [
      " [-----------------100%-----------------] 104000 of 104000 complete in 7.3 sec\n",
      "v:\n",
      " \n",
      "\tMean             SD               MC Error        95% HPD interval\n",
      "\t------------------------------------------------------------------\n",
      "\t6.174            0.404            0.001            [ 5.4    6.974]\n",
      "\t\n",
      "\t\n",
      "\tPosterior quantiles:\n",
      "\t\n",
      "\t2.5             25              50              75             97.5\n",
      "\t |---------------|===============|===============|---------------|\n",
      "\t5.445            5.893           6.152          6.431         7.031\n",
      "\t\n",
      "None\n",
      "MCMC gives 0.40, analytic gives 0.39\n"
     ]
    },
    {
     "name": "stderr",
     "output_type": "stream",
     "text": [
      "/Users/blarsen/miniconda3/envs/python3/lib/python3.5/site-packages/numpy/core/fromnumeric.py:225: VisibleDeprecationWarning: using a non-integer number instead of an integer will result in an error in the future\n",
      "  return reshape(newshape, order=order)\n"
     ]
    }
   ],
   "source": [
    "model.sample(1e5, burn=1000, burn_till_tuned=True)\n",
    "print(v.summary())\n",
    "print(\"MCMC gives {0:.2f}, analytic gives {1}\".format(np.std(v.trace()), 0.39))"
   ]
  },
  {
   "cell_type": "markdown",
   "metadata": {},
   "source": [
    "## Example 3"
   ]
  },
  {
   "cell_type": "markdown",
   "metadata": {},
   "source": [
    "Example: the period of an oscillation is measured to be T = 0.20 ± 0.01 s. Thus the frequency is\n",
    "f = 1/T = 5 Hz. What is the uncertainty in f? Answer: the percent uncertainty in T was 0.01/0.20 = 5%.\n",
    "Thus the percent uncertainty in f is also 5%, which means that δf = 0.25 Hz. So f = 5.0 ± 0.3 Hz (after\n",
    "rounding).\n",
    "\n",
    "f = 5.0 ± 0.3 Hz"
   ]
  },
  {
   "cell_type": "code",
   "execution_count": 31,
   "metadata": {
    "collapsed": false
   },
   "outputs": [],
   "source": [
    "T = mc.Normal('T', 0.20, (0.01)**-2)\n",
    "\n",
    "@mc.deterministic()\n",
    "def f(T=T):\n",
    "    return 1/T\n",
    "\n",
    "model = mc.MCMC((T, f))"
   ]
  },
  {
   "cell_type": "code",
   "execution_count": 32,
   "metadata": {
    "collapsed": false
   },
   "outputs": [
    {
     "name": "stdout",
     "output_type": "stream",
     "text": [
      " [-----------------100%-----------------] 14900 of 14900 complete in 0.7 sec"
     ]
    }
   ],
   "source": [
    "model.sample(1e4, burn=100, burn_till_tuned=True)"
   ]
  },
  {
   "cell_type": "code",
   "execution_count": 33,
   "metadata": {
    "collapsed": false
   },
   "outputs": [
    {
     "name": "stdout",
     "output_type": "stream",
     "text": [
      "\n",
      "f:\n",
      " \n",
      "\tMean             SD               MC Error        95% HPD interval\n",
      "\t------------------------------------------------------------------\n",
      "\t5.013            0.253            0.003              [ 4.52  5.5 ]\n",
      "\t\n",
      "\t\n",
      "\tPosterior quantiles:\n",
      "\t\n",
      "\t2.5             25              50              75             97.5\n",
      "\t |---------------|===============|===============|---------------|\n",
      "\t4.554            4.836           5.0            5.177         5.553\n",
      "\t\n",
      "None\n",
      "MCMC gives 5.0 +/- 0.3, analytic gives 5.0 +/- 0.3\n"
     ]
    },
    {
     "name": "stderr",
     "output_type": "stream",
     "text": [
      "/Users/blarsen/miniconda3/envs/python3/lib/python3.5/site-packages/numpy/core/fromnumeric.py:225: VisibleDeprecationWarning: using a non-integer number instead of an integer will result in an error in the future\n",
      "  return reshape(newshape, order=order)\n"
     ]
    }
   ],
   "source": [
    "print(f.summary())\n",
    "print(\"MCMC gives {0:.1f} +/- {1:.1f}, analytic gives {2} +/- {3}\".format(np.mean(f.trace()), np.std(f.trace()), \n",
    "                                                                          5.0, 0.3))\n"
   ]
  },
  {
   "cell_type": "markdown",
   "metadata": {},
   "source": [
    "## Example 4"
   ]
  },
  {
   "cell_type": "markdown",
   "metadata": {},
   "source": [
    "Example: a ball is tossed straight up into the air with initial speed v0 = 4.0 ± 0.2 m/s. After a time\n",
    "t = 0.60±0.06 s, the height of the ball is y = v0t−\n",
    "1\n",
    "2\n",
    "gt2 = 0.636 m. What is the uncertainty of y? Assume\n",
    "g = 9.80 m/s2\n",
    "(no uncertainty in g).\n",
    "\n",
    "Thus y would be properly reported as 0.6 ± 0.4 m."
   ]
  },
  {
   "cell_type": "code",
   "execution_count": 35,
   "metadata": {
    "collapsed": false
   },
   "outputs": [],
   "source": [
    "g = 9.80\n",
    "t = mc.Normal('t', 0.60, (0.06)**-2)\n",
    "v0 = mc.Normal('v0', 4.0, (0.2)**-2)\n",
    "\n",
    "@mc.deterministic()\n",
    "def h(t=t, v0=v0):\n",
    "    return v0*t - 0.5*g*t**2\n",
    "\n",
    "model = mc.MCMC((t, v0, h))\n",
    "\n"
   ]
  },
  {
   "cell_type": "code",
   "execution_count": 39,
   "metadata": {
    "collapsed": false
   },
   "outputs": [
    {
     "name": "stdout",
     "output_type": "stream",
     "text": [
      " [-----------------100%-----------------] 104900 of 104900 complete in 7.6 sec"
     ]
    }
   ],
   "source": [
    "model.sample(1e5, burn=100, burn_till_tuned=True)"
   ]
  },
  {
   "cell_type": "code",
   "execution_count": 43,
   "metadata": {
    "collapsed": false
   },
   "outputs": [
    {
     "name": "stdout",
     "output_type": "stream",
     "text": [
      "\n",
      "h:\n",
      " \n",
      "\tMean             SD               MC Error        95% HPD interval\n",
      "\t------------------------------------------------------------------\n",
      "\t0.618            0.168            0.0              [ 0.28   0.928]\n",
      "\t\n",
      "\t\n",
      "\tPosterior quantiles:\n",
      "\t\n",
      "\t2.5             25              50              75             97.5\n",
      "\t |---------------|===============|===============|---------------|\n",
      "\t0.25             0.515           0.633          0.736         0.907\n",
      "\t\n",
      "None\n",
      "MCMC gives 0.6 +/- 0.2, analytic gives 0.6 +/- 0.4\n"
     ]
    },
    {
     "name": "stderr",
     "output_type": "stream",
     "text": [
      "/Users/blarsen/miniconda3/envs/python3/lib/python3.5/site-packages/numpy/core/fromnumeric.py:225: VisibleDeprecationWarning: using a non-integer number instead of an integer will result in an error in the future\n",
      "  return reshape(newshape, order=order)\n"
     ]
    }
   ],
   "source": [
    "print(h.summary())\n",
    "print(\"MCMC gives {0:.1f} +/- {1:.1f}, analytic gives {2} +/- {3}\".format(np.mean(h.trace()), np.std(h.trace()), \n",
    "                                                                          0.6, 0.4))\n"
   ]
  },
  {
   "cell_type": "markdown",
   "metadata": {},
   "source": [
    "## Example 5\n",
    "For example, suppose Ann and Billy both measure the speed of a moving ball. Ann measures 3.6±0.2 m/s\n",
    "and Billy gets 3.3 ± 0.3 m/s. Do the two measurements agree?\n",
    "\n",
    "D = 0.3 ± 0.4 m/s  so 0 is in the range, they do agree."
   ]
  },
  {
   "cell_type": "code",
   "execution_count": 46,
   "metadata": {
    "collapsed": true
   },
   "outputs": [],
   "source": [
    "A = mc.Normal('A', 3.6, (0.2)**-2)\n",
    "B = mc.Normal('B', 3.3, (0.3)**-2)\n",
    "\n",
    "@mc.deterministic()\n",
    "def D(A=A, B=B):\n",
    "    return A-B\n",
    "\n",
    "model = mc.MCMC((A, B, D))"
   ]
  },
  {
   "cell_type": "code",
   "execution_count": 47,
   "metadata": {
    "collapsed": false
   },
   "outputs": [
    {
     "name": "stdout",
     "output_type": "stream",
     "text": [
      " [-----------------100%-----------------] 104900 of 104900 complete in 7.4 sec"
     ]
    }
   ],
   "source": [
    "model.sample(1e5, burn=100, burn_till_tuned=True)"
   ]
  },
  {
   "cell_type": "code",
   "execution_count": 48,
   "metadata": {
    "collapsed": false
   },
   "outputs": [
    {
     "name": "stdout",
     "output_type": "stream",
     "text": [
      "\n",
      "D:\n",
      " \n",
      "\tMean             SD               MC Error        95% HPD interval\n",
      "\t------------------------------------------------------------------\n",
      "\t0.299            0.361            0.001            [-0.408  1.011]\n",
      "\t\n",
      "\t\n",
      "\tPosterior quantiles:\n",
      "\t\n",
      "\t2.5             25              50              75             97.5\n",
      "\t |---------------|===============|===============|---------------|\n",
      "\t-0.412           0.055           0.3            0.542         1.007\n",
      "\t\n",
      "None\n",
      "MCMC gives 0.3 +/- 0.4, analytic gives 0.3 +/- 0.4\n"
     ]
    },
    {
     "name": "stderr",
     "output_type": "stream",
     "text": [
      "/Users/blarsen/miniconda3/envs/python3/lib/python3.5/site-packages/numpy/core/fromnumeric.py:225: VisibleDeprecationWarning: using a non-integer number instead of an integer will result in an error in the future\n",
      "  return reshape(newshape, order=order)\n"
     ]
    }
   ],
   "source": [
    "print(D.summary())\n",
    "print(\"MCMC gives {0:.1f} +/- {1:.1f}, analytic gives {2} +/- {3}\".format(np.mean(D.trace()), np.std(D.trace()), \n",
    "                                                                          0.3, 0.4))\n",
    "# mc.Matplot.plot(model)"
   ]
  },
  {
   "cell_type": "code",
   "execution_count": null,
   "metadata": {
    "collapsed": true
   },
   "outputs": [],
   "source": []
  }
 ],
 "metadata": {
  "kernelspec": {
   "display_name": "Python 3",
   "language": "python",
   "name": "python3"
  },
  "language_info": {
   "codemirror_mode": {
    "name": "ipython",
    "version": 3
   },
   "file_extension": ".py",
   "mimetype": "text/x-python",
   "name": "python",
   "nbconvert_exporter": "python",
   "pygments_lexer": "ipython3",
   "version": "3.5.2"
  }
 },
 "nbformat": 4,
 "nbformat_minor": 1
}
