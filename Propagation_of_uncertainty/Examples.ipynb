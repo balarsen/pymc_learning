{
 "cells": [
  {
   "cell_type": "markdown",
   "metadata": {},
   "source": [
    "# Examles of error propigation\n",
    "Examples are taken from http://ipl.physics.harvard.edu/wp-uploads/2013/03/PS3_Error_Propagation_sp13.pdf and used on MCMC to show how the answers work"
   ]
  },
  {
   "cell_type": "markdown",
   "metadata": {},
   "source": [
    "## Example 1"
   ]
  },
  {
   "cell_type": "markdown",
   "metadata": {},
   "source": [
    "Example: suppose you measure the height H of a door and get 2.00 ± 0.03 m. This means that\n",
    "H = 2.00 m and δH = 0.03 m. The door has a knob which is a height h = 0.88 ± 0.04 m from the bottom\n",
    "of the door. Then the distance from the doorknob to the top of the door is Q = H − h = 1.12 m. What\n",
    "is the uncertainty in Q?\n",
    "\n",
    "Q = 1.12 ± 0.05 m\n"
   ]
  },
  {
   "cell_type": "code",
   "execution_count": 2,
   "metadata": {
    "collapsed": true
   },
   "outputs": [],
   "source": [
    "import numpy as np\n",
    "import pymc as mc"
   ]
  },
  {
   "cell_type": "code",
   "execution_count": 2,
   "metadata": {
    "collapsed": false
   },
   "outputs": [],
   "source": [
    "H = mc.Normal('H', 2.00, (0.03)**-2)\n",
    "h = mc.Normal('h', 0.88, (0.04)**-2)\n",
    "\n",
    "@mc.deterministic()\n",
    "def Q(H=H, h=h):\n",
    "    return H-h\n",
    "\n",
    "model = mc.MCMC((H,h,Q))"
   ]
  },
  {
   "cell_type": "code",
   "execution_count": 3,
   "metadata": {
    "collapsed": false
   },
   "outputs": [
    {
     "name": "stdout",
     "output_type": "stream",
     "text": [
      " [-----------------100%-----------------] 14900 of 14900 complete in 1.0 sec\n",
      "Q:\n",
      " \n",
      "\tMean             SD               MC Error        95% HPD interval\n",
      "\t------------------------------------------------------------------\n",
      "\t1.121            0.05             0.0              [ 1.022  1.221]\n",
      "\t\n",
      "\t\n",
      "\tPosterior quantiles:\n",
      "\t\n",
      "\t2.5             25              50              75             97.5\n",
      "\t |---------------|===============|===============|---------------|\n",
      "\t1.021            1.087           1.12           1.154         1.221\n",
      "\t\n",
      "None\n",
      "MCMC gives 1.12 +/- 0.05, analytic gives 1.12 +/- 0.05\n"
     ]
    },
    {
     "name": "stderr",
     "output_type": "stream",
     "text": [
      "/Users/balarsen/miniconda3/envs/python3/lib/python3.5/site-packages/numpy/core/fromnumeric.py:225: VisibleDeprecationWarning: using a non-integer number instead of an integer will result in an error in the future\n",
      "  return reshape(newshape, order=order)\n"
     ]
    }
   ],
   "source": [
    "model.sample(1e4, burn=100, burn_till_tuned=True)\n",
    "# mc.Matplot.plot(model)\n",
    "# mc.Matplot.plot(Q)\n",
    "print(Q.summary())\n",
    "print(\"MCMC gives {0:.2f} +/- {1:.2f}, analytic gives {2} +/- {3}\".format(np.mean(Q.trace()), np.std(Q.trace()), 1.12, 0.05))"
   ]
  },
  {
   "cell_type": "markdown",
   "metadata": {},
   "source": [
    "## Example 2"
   ]
  },
  {
   "cell_type": "markdown",
   "metadata": {},
   "source": [
    "Example: a bird flies a distance d = 120 ± 3 m during a time t = 20.0 ± 1.2 s. The average speed of\n",
    "the bird is v = d/t = 6 m/s. What is the uncertainty of v?\n",
    "\n",
    "0.39 m/s."
   ]
  },
  {
   "cell_type": "code",
   "execution_count": 4,
   "metadata": {
    "collapsed": true
   },
   "outputs": [],
   "source": [
    "d = mc.Normal('d', 123, (3)**-2)\n",
    "t = mc.Normal('t', 20.0, (1.2)**-2)\n",
    "\n",
    "@mc.deterministic()\n",
    "def v(d=d, t=t):\n",
    "    return d/t\n",
    "\n",
    "model = mc.MCMC((d, t, v))"
   ]
  },
  {
   "cell_type": "code",
   "execution_count": 5,
   "metadata": {
    "collapsed": false
   },
   "outputs": [
    {
     "name": "stdout",
     "output_type": "stream",
     "text": [
      " [-----------------100%-----------------] 104000 of 104000 complete in 8.7 sec\n",
      "v:\n",
      " \n",
      "\tMean             SD               MC Error        95% HPD interval\n",
      "\t------------------------------------------------------------------\n",
      "\t6.171            0.402            0.001            [ 5.412  6.982]\n",
      "\t\n",
      "\t\n",
      "\tPosterior quantiles:\n",
      "\t\n",
      "\t2.5             25              50              75             97.5\n",
      "\t |---------------|===============|===============|---------------|\n",
      "\t5.441            5.89            6.15           6.428         7.017\n",
      "\t\n",
      "None\n",
      "MCMC gives 0.40, analytic gives 0.39\n"
     ]
    },
    {
     "name": "stderr",
     "output_type": "stream",
     "text": [
      "/Users/balarsen/miniconda3/envs/python3/lib/python3.5/site-packages/numpy/core/fromnumeric.py:225: VisibleDeprecationWarning: using a non-integer number instead of an integer will result in an error in the future\n",
      "  return reshape(newshape, order=order)\n"
     ]
    }
   ],
   "source": [
    "model.sample(1e5, burn=1000, burn_till_tuned=True)\n",
    "print(v.summary())\n",
    "print(\"MCMC gives {0:.2f}, analytic gives {1}\".format(np.std(v.trace()), 0.39))"
   ]
  },
  {
   "cell_type": "markdown",
   "metadata": {},
   "source": [
    "## Example 3"
   ]
  },
  {
   "cell_type": "markdown",
   "metadata": {},
   "source": [
    "Example: the period of an oscillation is measured to be T = 0.20 ± 0.01 s. Thus the frequency is\n",
    "f = 1/T = 5 Hz. What is the uncertainty in f? Answer: the percent uncertainty in T was 0.01/0.20 = 5%.\n",
    "Thus the percent uncertainty in f is also 5%, which means that δf = 0.25 Hz. So f = 5.0 ± 0.3 Hz (after\n",
    "rounding).\n",
    "\n",
    "f = 5.0 ± 0.3 Hz"
   ]
  },
  {
   "cell_type": "code",
   "execution_count": 6,
   "metadata": {
    "collapsed": false
   },
   "outputs": [],
   "source": [
    "T = mc.Normal('T', 0.20, (0.01)**-2)\n",
    "\n",
    "@mc.deterministic()\n",
    "def f(T=T):\n",
    "    return 1/T\n",
    "\n",
    "model = mc.MCMC((T, f))"
   ]
  },
  {
   "cell_type": "code",
   "execution_count": 7,
   "metadata": {
    "collapsed": false
   },
   "outputs": [
    {
     "name": "stdout",
     "output_type": "stream",
     "text": [
      " [-----------------100%-----------------] 14900 of 14900 complete in 0.8 sec"
     ]
    }
   ],
   "source": [
    "model.sample(1e4, burn=100, burn_till_tuned=True)"
   ]
  },
  {
   "cell_type": "code",
   "execution_count": 8,
   "metadata": {
    "collapsed": false
   },
   "outputs": [
    {
     "name": "stdout",
     "output_type": "stream",
     "text": [
      "\n",
      "f:\n",
      " \n",
      "\tMean             SD               MC Error        95% HPD interval\n",
      "\t------------------------------------------------------------------\n",
      "\t5.013            0.25             0.003            [ 4.533  5.514]\n",
      "\t\n",
      "\t\n",
      "\tPosterior quantiles:\n",
      "\t\n",
      "\t2.5             25              50              75             97.5\n",
      "\t |---------------|===============|===============|---------------|\n",
      "\t4.55             4.842           5.002          5.174         5.543\n",
      "\t\n",
      "None\n",
      "MCMC gives 5.0 +/- 0.2, analytic gives 5.0 +/- 0.3\n"
     ]
    },
    {
     "name": "stderr",
     "output_type": "stream",
     "text": [
      "/Users/balarsen/miniconda3/envs/python3/lib/python3.5/site-packages/numpy/core/fromnumeric.py:225: VisibleDeprecationWarning: using a non-integer number instead of an integer will result in an error in the future\n",
      "  return reshape(newshape, order=order)\n"
     ]
    }
   ],
   "source": [
    "print(f.summary())\n",
    "print(\"MCMC gives {0:.1f} +/- {1:.1f}, analytic gives {2} +/- {3}\".format(np.mean(f.trace()), np.std(f.trace()), \n",
    "                                                                          5.0, 0.3))\n"
   ]
  },
  {
   "cell_type": "markdown",
   "metadata": {},
   "source": [
    "## Example 4"
   ]
  },
  {
   "cell_type": "markdown",
   "metadata": {},
   "source": [
    "Example: a ball is tossed straight up into the air with initial speed v0 = 4.0 ± 0.2 m/s. After a time\n",
    "t = 0.60±0.06 s, the height of the ball is y = v0t−\n",
    "1\n",
    "2\n",
    "gt2 = 0.636 m. What is the uncertainty of y? Assume\n",
    "g = 9.80 m/s2\n",
    "(no uncertainty in g).\n",
    "\n",
    "Thus y would be properly reported as 0.6 ± 0.4 m."
   ]
  },
  {
   "cell_type": "code",
   "execution_count": 9,
   "metadata": {
    "collapsed": false
   },
   "outputs": [],
   "source": [
    "g = 9.80\n",
    "t = mc.Normal('t', 0.60, (0.06)**-2)\n",
    "v0 = mc.Normal('v0', 4.0, (0.2)**-2)\n",
    "\n",
    "@mc.deterministic()\n",
    "def h(t=t, v0=v0):\n",
    "    return v0*t - 0.5*g*t**2\n",
    "\n",
    "model = mc.MCMC((t, v0, h))\n",
    "\n"
   ]
  },
  {
   "cell_type": "code",
   "execution_count": 10,
   "metadata": {
    "collapsed": false
   },
   "outputs": [
    {
     "name": "stdout",
     "output_type": "stream",
     "text": [
      " [-----------------100%-----------------] 104900 of 104900 complete in 8.6 sec"
     ]
    }
   ],
   "source": [
    "model.sample(1e5, burn=100, burn_till_tuned=True)"
   ]
  },
  {
   "cell_type": "code",
   "execution_count": 11,
   "metadata": {
    "collapsed": false
   },
   "outputs": [
    {
     "name": "stdout",
     "output_type": "stream",
     "text": [
      "\n",
      "h:\n",
      " \n",
      "\tMean             SD               MC Error        95% HPD interval\n",
      "\t------------------------------------------------------------------\n",
      "\t0.619            0.167            0.001            [ 0.28   0.923]\n",
      "\t\n",
      "\t\n",
      "\tPosterior quantiles:\n",
      "\t\n",
      "\t2.5             25              50              75             97.5\n",
      "\t |---------------|===============|===============|---------------|\n",
      "\t0.255            0.517           0.633          0.737         0.905\n",
      "\t\n",
      "None\n",
      "MCMC gives 0.6 +/- 0.2, analytic gives 0.6 +/- 0.4\n"
     ]
    },
    {
     "name": "stderr",
     "output_type": "stream",
     "text": [
      "/Users/balarsen/miniconda3/envs/python3/lib/python3.5/site-packages/numpy/core/fromnumeric.py:225: VisibleDeprecationWarning: using a non-integer number instead of an integer will result in an error in the future\n",
      "  return reshape(newshape, order=order)\n"
     ]
    }
   ],
   "source": [
    "print(h.summary())\n",
    "print(\"MCMC gives {0:.1f} +/- {1:.1f}, analytic gives {2} +/- {3}\".format(np.mean(h.trace()), np.std(h.trace()), \n",
    "                                                                          0.6, 0.4))\n"
   ]
  },
  {
   "cell_type": "markdown",
   "metadata": {},
   "source": [
    "## Example 5\n",
    "For example, suppose Ann and Billy both measure the speed of a moving ball. Ann measures 3.6±0.2 m/s\n",
    "and Billy gets 3.3 ± 0.3 m/s. Do the two measurements agree?\n",
    "\n",
    "D = 0.3 ± 0.4 m/s  so 0 is in the range, they do agree."
   ]
  },
  {
   "cell_type": "code",
   "execution_count": 12,
   "metadata": {
    "collapsed": true
   },
   "outputs": [],
   "source": [
    "A = mc.Normal('A', 3.6, (0.2)**-2)\n",
    "B = mc.Normal('B', 3.3, (0.3)**-2)\n",
    "\n",
    "@mc.deterministic()\n",
    "def D(A=A, B=B):\n",
    "    return A-B\n",
    "\n",
    "model = mc.MCMC((A, B, D))"
   ]
  },
  {
   "cell_type": "code",
   "execution_count": 13,
   "metadata": {
    "collapsed": false
   },
   "outputs": [
    {
     "name": "stdout",
     "output_type": "stream",
     "text": [
      " [-----------------100%-----------------] 104900 of 104900 complete in 8.8 sec"
     ]
    }
   ],
   "source": [
    "model.sample(1e5, burn=100, burn_till_tuned=True)"
   ]
  },
  {
   "cell_type": "markdown",
   "metadata": {},
   "source": []
  },
  {
   "cell_type": "code",
   "execution_count": 14,
   "metadata": {
    "collapsed": false
   },
   "outputs": [
    {
     "name": "stdout",
     "output_type": "stream",
     "text": [
      "\n",
      "D:\n",
      " \n",
      "\tMean             SD               MC Error        95% HPD interval\n",
      "\t------------------------------------------------------------------\n",
      "\t0.3              0.36             0.001            [-0.419  0.994]\n",
      "\t\n",
      "\t\n",
      "\tPosterior quantiles:\n",
      "\t\n",
      "\t2.5             25              50              75             97.5\n",
      "\t |---------------|===============|===============|---------------|\n",
      "\t-0.41            0.058           0.301          0.543         1.004\n",
      "\t\n",
      "None\n",
      "MCMC gives 0.3 +/- 0.4, analytic gives 0.3 +/- 0.4\n"
     ]
    },
    {
     "name": "stderr",
     "output_type": "stream",
     "text": [
      "/Users/balarsen/miniconda3/envs/python3/lib/python3.5/site-packages/numpy/core/fromnumeric.py:225: VisibleDeprecationWarning: using a non-integer number instead of an integer will result in an error in the future\n",
      "  return reshape(newshape, order=order)\n"
     ]
    }
   ],
   "source": [
    "print(D.summary())\n",
    "print(\"MCMC gives {0:.1f} +/- {1:.1f}, analytic gives {2} +/- {3}\".format(np.mean(D.trace()), np.std(D.trace()), \n",
    "                                                                          0.3, 0.4))\n",
    "# mc.Matplot.plot(model)"
   ]
  },
  {
   "cell_type": "code",
   "execution_count": 15,
   "metadata": {
    "collapsed": true
   },
   "outputs": [],
   "source": [
    "# https://www.lhup.edu/~dsimanek/scenario/errorman/propagat.htm"
   ]
  },
  {
   "cell_type": "markdown",
   "metadata": {},
   "source": [
    "# Example 6\n",
    "Example: An angle is measured to be 30° ±0.5°. What is the error in the sine of this angle?\n",
    "\n",
    "Solution: Use your electronic calculator. The sine of 30° is 0.5; the sine of 30.5° is 0.508; the sine of 29.5° is 0.492. So if the angle is one half degree too large the sine becomes 0.008 larger, and if it were half a degree too small the sine becomes 0.008 smaller. (The change happens to be nearly the same size in both cases.) So the error in the sine would be written ±0.008.\n",
    "\n",
    "The size of the error in trigonometric functions depends not only on the size of the error in the angle, but also on the size of the angle. A one half degree error in an angle of 90° would give an error of only 0.00004 in the sine."
   ]
  },
  {
   "cell_type": "code",
   "execution_count": 3,
   "metadata": {
    "collapsed": false
   },
   "outputs": [],
   "source": [
    "a = mc.Normal('a', 30.00, (0.5)**-2)\n",
    "\n",
    "@mc.deterministic()\n",
    "def sina(a=a):\n",
    "    return np.sin(np.deg2rad(a))\n",
    "\n",
    "model = mc.MCMC((a, sina))"
   ]
  },
  {
   "cell_type": "code",
   "execution_count": 14,
   "metadata": {
    "collapsed": false
   },
   "outputs": [
    {
     "name": "stdout",
     "output_type": "stream",
     "text": [
      " [-----------------100%-----------------] 100000 of 100000 complete in 5.9 sec[-------          18%                  ] 18671 of 100000 complete in 1.0 sec"
     ]
    },
    {
     "name": "stderr",
     "output_type": "stream",
     "text": [
      "/Users/blarsen/miniconda3/envs/python3/lib/python3.5/site-packages/numpy/core/fromnumeric.py:224: VisibleDeprecationWarning: using a non-integer number instead of an integer will result in an error in the future\n",
      "  return reshape(newshape, order=order)\n"
     ]
    },
    {
     "name": "stdout",
     "output_type": "stream",
     "text": [
      "\n",
      "sina:\n",
      " \n",
      "\tMean             SD               MC Error        95% HPD interval\n",
      "\t------------------------------------------------------------------\n",
      "\t0.5              0.008            0.0              [ 0.485  0.515]\n",
      "\t\n",
      "\t\n",
      "\tPosterior quantiles:\n",
      "\t\n",
      "\t2.5             25              50              75             97.5\n",
      "\t |---------------|===============|===============|---------------|\n",
      "\t0.485            0.495           0.5            0.505         0.515\n",
      "\t\n",
      "None\n",
      "MCMC gives 0.500 +/- 0.008, analytic gives 0.5 +/- 0.008\n",
      " [-----------------100%-----------------] 100000 of 100000 complete in 6.1 secCould not calculate Gelman-Rubin statistics. Requires multiple chains of equal length.\n"
     ]
    },
    {
     "data": {
      "image/png": "[encoded data removed]",
      "text/plain": [
       "<matplotlib.figure.Figure at 0x112d2e9e8>"
      ]
     },
     "metadata": {},
     "output_type": "display_data"
    }
   ],
   "source": [
    "model.sample(1e5, burn=5000, burn_till_tuned=False)\n",
    "# mc.Matplot.plot(model)\n",
    "# mc.Matplot.plot(Q)\n",
    "print(sina.summary())\n",
    "print(\"MCMC gives {0:.3f} +/- {1:.3f}, analytic gives {2} +/- {3}\".format(np.mean(sina.trace()), np.std(sina.trace()), 0.5, 0.008))\n",
    "\n",
    "for i in range(4):\n",
    "    model.sample(1e5, burn=5000, burn_till_tuned=False)\n",
    "\n",
    "mc.Matplot.summary_plot(sina)"
   ]
  },
  {
   "cell_type": "markdown",
   "metadata": {},
   "source": [
    "# Example 7\n",
    "Two data quantities, X and Y, are used to calculate a result, R = XY. X = 38.2 ± 0.3 and Y = 12.1 ± 0.2. What is the error in R?\n",
    "\n",
    "The product rule requires fractional error measure. The fractional error in X is 0.3/38.2 = 0.008 approximately, and the fractional error in Y is 0.017 approximately. Adding these gives the fractional error in R: 0.025. Multiplying this result by R gives 11.56 as the absolute error in R, so we write the result as R = 462 ± 12. Note that once we know the error, its size tells us how far to round off the result (retaining the first uncertain digit.) Note also that we round off the error itself to one, or at most two, digits. This is why we could safely make approximations during the calculations of the errors."
   ]
  },
  {
   "cell_type": "code",
   "execution_count": 18,
   "metadata": {
    "collapsed": false
   },
   "outputs": [
    {
     "name": "stdout",
     "output_type": "stream",
     "text": [
      " [-----------------100%-----------------] 100000 of 100000 complete in 8.3 sec-----            13%                  ] 13233 of 100000 complete in 1.0 sec\n",
      "R:\n",
      " \n",
      "\tMean             SD               MC Error        95% HPD interval\n",
      "\t------------------------------------------------------------------\n",
      "\t462.189          8.44             0.029        [ 445.572  478.691]\n",
      "\t\n",
      "\t\n",
      "\tPosterior quantiles:\n",
      "\t\n",
      "\t2.5             25              50              75             97.5\n",
      "\t |---------------|===============|===============|---------------|\n",
      "\t445.71           456.45          462.165        467.85        478.854\n",
      "\t\n",
      "None\n",
      "MCMC gives 462.189 +/- 8.440, analytic gives 462 +/- 12\n"
     ]
    },
    {
     "name": "stderr",
     "output_type": "stream",
     "text": [
      "/Users/blarsen/miniconda3/envs/python3/lib/python3.5/site-packages/numpy/core/fromnumeric.py:224: VisibleDeprecationWarning: using a non-integer number instead of an integer will result in an error in the future\n",
      "  return reshape(newshape, order=order)\n"
     ]
    }
   ],
   "source": [
    "X = mc.Normal('X', 38.2, (0.3)**-2)\n",
    "Y = mc.Normal('Y', 12.1, (0.2)**-2)\n",
    "\n",
    "@mc.deterministic()\n",
    "def R(X=X, Y=Y):\n",
    "    return X*Y\n",
    "\n",
    "model = mc.MCMC((X, Y, R))\n",
    "model.sample(1e5, burn=5000, burn_till_tuned=False)\n",
    "# mc.Matplot.plot(model)\n",
    "# mc.Matplot.plot(Q)\n",
    "print(R.summary())\n",
    "print(\"MCMC gives {0:.3f} +/- {1:.3f}, analytic gives {2} +/- {3}\".format(np.mean(R.trace()), np.std(R.trace()), 462, 12))\n",
    "\n"
   ]
  },
  {
   "cell_type": "code",
   "execution_count": null,
   "metadata": {
    "collapsed": true
   },
   "outputs": [],
   "source": []
  }
 ],
 "metadata": {
  "anaconda-cloud": {},
  "kernelspec": {
   "display_name": "Python [default]",
   "language": "python",
   "name": "python3"
  },
  "language_info": {
   "codemirror_mode": {
    "name": "ipython",
    "version": 3
   },
   "file_extension": ".py",
   "mimetype": "text/x-python",
   "name": "python",
   "nbconvert_exporter": "python",
   "pygments_lexer": "ipython3",
   "version": "3.5.2"
  }
 },
 "nbformat": 4,
 "nbformat_minor": 1
}
