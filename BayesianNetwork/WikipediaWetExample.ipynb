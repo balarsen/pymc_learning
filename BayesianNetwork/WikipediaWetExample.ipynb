{
 "cells": [
  {
   "cell_type": "markdown",
   "metadata": {},
   "source": [
    "# Example Bayesian network from wikipedia\n",
    "https://en.wikipedia.org/wiki/Bayesian_network"
   ]
  },
  {
   "cell_type": "code",
   "execution_count": 1,
   "metadata": {
    "collapsed": false
   },
   "outputs": [
    {
     "data": {
      "text/html": [
       "<img src=\"SimpleBayesNet.png\"/>"
      ],
      "text/plain": [
       "<IPython.core.display.Image object>"
      ]
     },
     "execution_count": 1,
     "metadata": {},
     "output_type": "execute_result"
    }
   ],
   "source": [
    "from IPython.display import Image\n",
    "from IPython.core.display import HTML \n",
    "Image(url= \"SimpleBayesNet.png\")"
   ]
  },
  {
   "cell_type": "markdown",
   "metadata": {},
   "source": [
    "Suppose that there are two events which could cause grass to be wet: either the sprinkler is on or it's raining. Also, suppose that the rain has a direct effect on the use of the sprinkler (namely that when it rains, the sprinkler is usually not turned on). Then the situation can be modeled with a Bayesian network (shown to the right). All three variables have two possible values, T (for true) and F (for false).\n",
    "\n",
    "The joimt probabilty function is:\n",
    "\n",
    "$Pr(G,S,R)=Pr(G|S,R)Pr(S|R)Pr(R)$\n",
    "\n",
    "where the names of the variables have been abbreviated to G = Grass wet (yes/no), S = Sprinkler turned on (yes/no), and R = Raining (yes/no)."
   ]
  },
  {
   "cell_type": "markdown",
   "metadata": {},
   "source": [
    "The model can answer questions like \"What is the probability that it is raining, given the grass is wet?\" by using the conditional probability formula and summing over all nuisance variables:\n",
    "\n",
    "$Pr(R=T|G=T)=\\frac{Pr(G=T|R=T}{Pr(G=T)}=\\frac{\\sum_{S\\in  {T,F}}Pr(G=T,S,R=T)}{\\sum_{S,R\\in {T,F}}Pr(G=T,S,R)}$\n",
    "\n",
    "Using the expansion for the joint probability function {\\displaystyle \\Pr(G,S,R)} {\\displaystyle \\Pr(G,S,R)} and the conditional probabilities from the conditional probability tables (CPTs) stated in the diagram, one can evaluate each term in the sums in the numerator and denominator. For example,\n",
    "\n",
    "$Pr(G=T,S=T,R=T)=Pr(G=T|S=T,R=T)Pr(S=T|R=T)Pr(R=T)\\\\\n",
    "= 0.99 \\times 0.01 \\times 0.2\\\\\n",
    "=0.00198$\n",
    "\n",
    "Then the numerical results (subscripted by the associated variable values) are\n",
    "\n",
    "$Pr(R=T|G=T)=\\frac{0.00198_{TTT} + 0.1584_{TFT}}{0.00198_{TTT}+0.288_{TTF}+0.1584_{TFF}}=\\frac{891}{2491}=35.77\\%$"
   ]
  },
  {
   "cell_type": "markdown",
   "metadata": {},
   "source": [
    "## Do this with pymc3\n"
   ]
  },
  {
   "cell_type": "code",
   "execution_count": 2,
   "metadata": {
    "collapsed": true
   },
   "outputs": [],
   "source": [
    "import pymc3 as mc3\n",
    "import numpy as np\n"
   ]
  },
  {
   "cell_type": "code",
   "execution_count": null,
   "metadata": {
    "collapsed": true
   },
   "outputs": [],
   "source": []
  }
 ],
 "metadata": {
  "kernelspec": {
   "display_name": "Python [conda env:python3]",
   "language": "python",
   "name": "conda-env-python3-py"
  },
  "language_info": {
   "codemirror_mode": {
    "name": "ipython",
    "version": 3
   },
   "file_extension": ".py",
   "mimetype": "text/x-python",
   "name": "python",
   "nbconvert_exporter": "python",
   "pygments_lexer": "ipython3",
   "version": "3.5.3"
  }
 },
 "nbformat": 4,
 "nbformat_minor": 2
}
