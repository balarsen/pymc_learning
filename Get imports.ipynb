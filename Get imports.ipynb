{
 "cells": [
  {
   "cell_type": "markdown",
   "metadata": {},
   "source": [
    "# get all the imports to a requirements.txt file\n",
    "\n",
    "run on shell:\n",
    "\n",
    "grep -r import * > imports.txt"
   ]
  },
  {
   "cell_type": "code",
   "execution_count": 18,
   "metadata": {},
   "outputs": [],
   "source": [
    "\n",
    "import re\n",
    "\n",
    "import numpy as np\n",
    "import pandas as pd"
   ]
  },
  {
   "cell_type": "code",
   "execution_count": 12,
   "metadata": {},
   "outputs": [],
   "source": [
    "with open(\"imports.txt\") as fp:\n",
    "    raw = fp.readlines()\n",
    "df = pd.Series(raw)\n"
   ]
  },
  {
   "cell_type": "code",
   "execution_count": 13,
   "metadata": {},
   "outputs": [
    {
     "data": {
      "text/plain": [
       "20597891"
      ]
     },
     "execution_count": 13,
     "metadata": {},
     "output_type": "execute_result"
    }
   ],
   "source": [
    "len(df)"
   ]
  },
  {
   "cell_type": "code",
   "execution_count": 14,
   "metadata": {},
   "outputs": [
    {
     "data": {
      "text/plain": [
       "0                             \"import pymc as pm\\n\",\\n\n",
       "1                            \"import numpy as np\\n\",\\n\n",
       "2        \"import matplotlib.pyplot as plt, seaborn ...\n",
       "3        \"Oh, and if I was really giving too much a...\n",
       "4                            \"import numpy as np\\n\",\\n\n",
       "dtype: object"
      ]
     },
     "execution_count": 14,
     "metadata": {},
     "output_type": "execute_result"
    }
   ],
   "source": [
    "df.head()"
   ]
  },
  {
   "cell_type": "code",
   "execution_count": 15,
   "metadata": {},
   "outputs": [
    {
     "data": {
      "text/plain": [
       "'    \"import pymc as pm\\\\n\",\\n'"
      ]
     },
     "execution_count": 15,
     "metadata": {},
     "output_type": "execute_result"
    }
   ],
   "source": [
    "df[0]"
   ]
  },
  {
   "cell_type": "code",
   "execution_count": 16,
   "metadata": {},
   "outputs": [],
   "source": [
    "df = df.str.strip()"
   ]
  },
  {
   "cell_type": "code",
   "execution_count": 17,
   "metadata": {},
   "outputs": [
    {
     "data": {
      "text/plain": [
       "0                               \"import pymc as pm\\n\",\n",
       "1                              \"import numpy as np\\n\",\n",
       "2    \"import matplotlib.pyplot as plt, seaborn as s...\n",
       "3    \"Oh, and if I was really giving too much advic...\n",
       "4                              \"import numpy as np\\n\",\n",
       "dtype: object"
      ]
     },
     "execution_count": 17,
     "metadata": {},
     "output_type": "execute_result"
    }
   ],
   "source": [
    "df.head()"
   ]
  },
  {
   "cell_type": "code",
   "execution_count": 20,
   "metadata": {},
   "outputs": [
    {
     "data": {
      "text/plain": [
       "[]"
      ]
     },
     "execution_count": 20,
     "metadata": {},
     "output_type": "execute_result"
    }
   ],
   "source": [
    "re.findall(r'import\\ {.*}\\ ', df[0])"
   ]
  },
  {
   "cell_type": "code",
   "execution_count": 27,
   "metadata": {},
   "outputs": [
    {
     "ename": "NameError",
     "evalue": "name 'split' is not defined",
     "output_type": "error",
     "traceback": [
      "\u001b[0;31m---------------------------------------------------------------------------\u001b[0m",
      "\u001b[0;31mNameError\u001b[0m                                 Traceback (most recent call last)",
      "\u001b[0;32m<ipython-input-27-995b84194821>\u001b[0m in \u001b[0;36m<module>\u001b[0;34m()\u001b[0m\n\u001b[0;32m----> 1\u001b[0;31m \u001b[0mdf\u001b[0m\u001b[0;34m[\u001b[0m\u001b[0;36m0\u001b[0m\u001b[0;34m:\u001b[0m\u001b[0;36m10\u001b[0m\u001b[0;34m]\u001b[0m\u001b[0;34m.\u001b[0m\u001b[0mapply\u001b[0m\u001b[0;34m(\u001b[0m\u001b[0msplit\u001b[0m\u001b[0;34m(\u001b[0m\u001b[0;34m'import'\u001b[0m\u001b[0;34m)\u001b[0m\u001b[0;34m[\u001b[0m\u001b[0;36m1\u001b[0m\u001b[0;34m]\u001b[0m\u001b[0;34m.\u001b[0m\u001b[0msplit\u001b[0m\u001b[0;34m(\u001b[0m\u001b[0;34m)\u001b[0m\u001b[0;34m.\u001b[0m\u001b[0mhead\u001b[0m\u001b[0;34m(\u001b[0m\u001b[0;34m)\u001b[0m\u001b[0;34m)\u001b[0m\u001b[0;34m\u001b[0m\u001b[0m\n\u001b[0m",
      "\u001b[0;31mNameError\u001b[0m: name 'split' is not defined"
     ]
    }
   ],
   "source": [
    "df[0:10].apply(split('import')[1].split().head())"
   ]
  },
  {
   "cell_type": "code",
   "execution_count": 57,
   "metadata": {},
   "outputs": [],
   "source": [
    "ans = [v.split('import')[1].split()[0].strip().split('.')[0].replace('\\\\n', '').replace('`', '').replace('\"', '')\n",
    "       for v in df]"
   ]
  },
  {
   "cell_type": "code",
   "execution_count": 58,
   "metadata": {},
   "outputs": [],
   "source": [
    "ans = pd.Series(ans)"
   ]
  },
  {
   "cell_type": "code",
   "execution_count": 59,
   "metadata": {},
   "outputs": [
    {
     "data": {
      "text/plain": [
       "20597891"
      ]
     },
     "execution_count": 59,
     "metadata": {},
     "output_type": "execute_result"
    }
   ],
   "source": [
    "len(ans)"
   ]
  },
  {
   "cell_type": "code",
   "execution_count": 60,
   "metadata": {},
   "outputs": [
    {
     "data": {
      "text/plain": [
       "0                                                   pymc\n",
       "1                                                  numpy\n",
       "2                                             matplotlib\n",
       "3                                                seaborn\n",
       "4                                                spacepy\n",
       "5                                                  pymc,\n",
       "6                                                 logit,\n",
       "7                                       DiscreteUniform,\n",
       "8                                                pprint,\n",
       "9                                              datetime,\n",
       "10                                              LogNorm,\n",
       "11                                                  ant;\n",
       "12                                               :before\n",
       "13                                               </span>\n",
       "14                                               theano,\n",
       "15                                                 pymc3\n",
       "16                                                theano\n",
       "17                                              sklearn,\n",
       "18                                             datasets,\n",
       "19                                                scale,\n",
       "20                                     train_test_split,\n",
       "21                                            make_moons\n",
       "22                                                  zip,\n",
       "23                                               sklearn\n",
       "24                                              datasets\n",
       "25                                                 scale\n",
       "26                                      train_test_split\n",
       "27                                                   zip\n",
       "28                                                Image,\n",
       "29                                                  HTML\n",
       "                             ...                        \n",
       "148                                                  io,\n",
       "149                                                   os\n",
       "150                                                 glob\n",
       "151                                                 from\n",
       "152                                   FlickerLikelihood,\n",
       "153                                            Wavelets,\n",
       "154                                    LineFlickerModel,\n",
       "155                                           pyspeckit,\n",
       "156                                       savgol_filter,\n",
       "157                                              Matplot\n",
       "158                                            factorial\n",
       "159                                               xarray\n",
       "160                                           matnpotlib\n",
       "161                                               pprint\n",
       "162                                                data,\n",
       "163                                              random,\n",
       "164                                 multivariate_normal,\n",
       "165                                              bisect,\n",
       "166                                               bisect\n",
       "167                                             warnings\n",
       "168                                            invlogit,\n",
       "169                                                plot,\n",
       "170                                               zeros,\n",
       "171                                                 pdb,\n",
       "172                                              signal,\n",
       "173                                              odeint,\n",
       "174                                           constants,\n",
       "175    _r__\\u001b[0m\\u001b[0;34m(\\u001b[0m\\u001b[0mou...\n",
       "176                               _r__\\u001b[0;34m(self,\n",
       "177                                 __\\u001b[0;34m(self,\n",
       "Length: 178, dtype: object"
      ]
     },
     "execution_count": 60,
     "metadata": {},
     "output_type": "execute_result"
    }
   ],
   "source": [
    "ans = pd.Series(ans.unique())\n",
    "ans"
   ]
  },
  {
   "cell_type": "code",
   "execution_count": 64,
   "metadata": {},
   "outputs": [
    {
     "name": "stdout",
     "output_type": "stream",
     "text": [
      "178\n"
     ]
    },
    {
     "data": {
      "text/plain": [
       "176"
      ]
     },
     "execution_count": 64,
     "metadata": {},
     "output_type": "execute_result"
    }
   ],
   "source": [
    "print(len(ans))\n",
    "ans = ans[ans.str.contains(\"/\") == False]\n",
    "len(ans)"
   ]
  },
  {
   "cell_type": "code",
   "execution_count": 65,
   "metadata": {},
   "outputs": [
    {
     "name": "stdout",
     "output_type": "stream",
     "text": [
      "176\n"
     ]
    },
    {
     "data": {
      "text/plain": [
       "172"
      ]
     },
     "execution_count": 65,
     "metadata": {},
     "output_type": "execute_result"
    }
   ],
   "source": [
    "print(len(ans))\n",
    "ans = ans[ans.str.contains(r\"\\\\\") == False]\n",
    "len(ans)"
   ]
  },
  {
   "cell_type": "code",
   "execution_count": 66,
   "metadata": {},
   "outputs": [
    {
     "data": {
      "text/plain": [
       "0                      pymc\n",
       "1                     numpy\n",
       "2                matplotlib\n",
       "3                   seaborn\n",
       "4                   spacepy\n",
       "5                     pymc,\n",
       "6                    logit,\n",
       "7          DiscreteUniform,\n",
       "8                   pprint,\n",
       "9                 datetime,\n",
       "10                 LogNorm,\n",
       "11                     ant;\n",
       "12                  :before\n",
       "13                  theano,\n",
       "14                    pymc3\n",
       "15                   theano\n",
       "16                 sklearn,\n",
       "17                datasets,\n",
       "18                   scale,\n",
       "19        train_test_split,\n",
       "20               make_moons\n",
       "21                     zip,\n",
       "22                  sklearn\n",
       "23                 datasets\n",
       "24                    scale\n",
       "25         train_test_split\n",
       "26                      zip\n",
       "27                   Image,\n",
       "28                     HTML\n",
       "29                    Image\n",
       "               ...         \n",
       "142     make_axes_locatable\n",
       "143             namedtuple,\n",
       "144                  antly,\n",
       "145                     io,\n",
       "146                      os\n",
       "147                    glob\n",
       "148                    from\n",
       "149      FlickerLikelihood,\n",
       "150               Wavelets,\n",
       "151       LineFlickerModel,\n",
       "152              pyspeckit,\n",
       "153          savgol_filter,\n",
       "154                 Matplot\n",
       "155               factorial\n",
       "156                  xarray\n",
       "157              matnpotlib\n",
       "158                  pprint\n",
       "159                   data,\n",
       "160                 random,\n",
       "161    multivariate_normal,\n",
       "162                 bisect,\n",
       "163                  bisect\n",
       "164                warnings\n",
       "165               invlogit,\n",
       "166                   plot,\n",
       "167                  zeros,\n",
       "168                    pdb,\n",
       "169                 signal,\n",
       "170                 odeint,\n",
       "171              constants,\n",
       "Length: 172, dtype: object"
      ]
     },
     "execution_count": 66,
     "metadata": {},
     "output_type": "execute_result"
    }
   ],
   "source": [
    "ans = pd.Series(ans.unique())\n",
    "ans"
   ]
  },
  {
   "cell_type": "code",
   "execution_count": 71,
   "metadata": {},
   "outputs": [
    {
     "data": {
      "text/plain": [
       "0                     pymc\n",
       "1                    numpy\n",
       "2               matplotlib\n",
       "3                  seaborn\n",
       "4                  spacepy\n",
       "5                    logit\n",
       "6          DiscreteUniform\n",
       "7                   pprint\n",
       "8                 datetime\n",
       "9                  LogNorm\n",
       "10                    ant;\n",
       "11                 :before\n",
       "12                  theano\n",
       "13                   pymc3\n",
       "14                 sklearn\n",
       "15                datasets\n",
       "16                   scale\n",
       "17        train_test_split\n",
       "18              make_moons\n",
       "19                     zip\n",
       "20                   Image\n",
       "21                    HTML\n",
       "22                  pandas\n",
       "23                    tqdm\n",
       "24                   stats\n",
       "25                   scipy\n",
       "26                   Model\n",
       "27                  sample\n",
       "28               traceplot\n",
       "29            Interpolated\n",
       "              ...         \n",
       "104                  expit\n",
       "105                 shared\n",
       "106            OrderedDict\n",
       "107                   chi2\n",
       "108                getitem\n",
       "109             GetMCAfile\n",
       "110                 Cursor\n",
       "111    make_axes_locatable\n",
       "112             namedtuple\n",
       "113                  antly\n",
       "114                     io\n",
       "115                   glob\n",
       "116                   from\n",
       "117      FlickerLikelihood\n",
       "118               Wavelets\n",
       "119       LineFlickerModel\n",
       "120              pyspeckit\n",
       "121          savgol_filter\n",
       "122                Matplot\n",
       "123              factorial\n",
       "124                 xarray\n",
       "125             matnpotlib\n",
       "126                   data\n",
       "127                 bisect\n",
       "128               invlogit\n",
       "129                  zeros\n",
       "130                    pdb\n",
       "131                 signal\n",
       "132                 odeint\n",
       "133              constants\n",
       "Length: 134, dtype: object"
      ]
     },
     "execution_count": 71,
     "metadata": {},
     "output_type": "execute_result"
    }
   ],
   "source": [
    "ans = pd.Series(ans.unique())\n",
    "ans"
   ]
  },
  {
   "cell_type": "code",
   "execution_count": 70,
   "metadata": {},
   "outputs": [],
   "source": [
    "ans = ans.apply(lambda x: x.replace(',', ''))"
   ]
  },
  {
   "cell_type": "code",
   "execution_count": null,
   "metadata": {},
   "outputs": [],
   "source": []
  },
  {
   "cell_type": "code",
   "execution_count": 73,
   "metadata": {},
   "outputs": [],
   "source": [
    "with open('requirements.txt', 'w') as fp:\n",
    "    for f in sorted(ans.values):\n",
    "        fp.write('{}\\n'.format(f))"
   ]
  },
  {
   "cell_type": "code",
   "execution_count": null,
   "metadata": {},
   "outputs": [],
   "source": []
  }
 ],
 "metadata": {
  "kernelspec": {
   "display_name": "Python 3",
   "language": "python",
   "name": "python3"
  },
  "language_info": {
   "codemirror_mode": {
    "name": "ipython",
    "version": 3
   },
   "file_extension": ".py",
   "mimetype": "text/x-python",
   "name": "python",
   "nbconvert_exporter": "python",
   "pygments_lexer": "ipython3",
   "version": "3.6.5"
  }
 },
 "nbformat": 4,
 "nbformat_minor": 2
}
