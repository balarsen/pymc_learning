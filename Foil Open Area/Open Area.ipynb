{
 "cells": [
  {
   "cell_type": "markdown",
   "metadata": {},
   "source": [
    "# Experimental data analysis on foil open area\n",
    "## Brian Larsen, ISR-1\n",
    "## Data provided by Phil Fernandes, ISR-1 2016-9-14"
   ]
  },
  {
   "cell_type": "markdown",
   "metadata": {},
   "source": [
    "The setup is a foil in its holder mounted to a foil holder meant to bock incident ions. The foil has a ~0.6mm hole in it to provide a baseline. The goal is to use the relative intensity of the witness hole to determine the intensity of holes in the foil.\n",
    "\n",
    "A quick summary:\n",
    "* Foil is placed 0.66” from front of MCP surface\n",
    "* Beam is rastered to cover full foil and “witness” aperture\n",
    "* Beam is 1.0 keV Ar+, slightly underfocused\n",
    "* Accumulate data for set period of time (either 60s or 180s, identified in spreadsheet)\n",
    "* Total_cts is the # of counts through the foil and the witness aperture\n",
    "* Witness_cts is the # of counts in the witness aperture only\n",
    "* Foil_cts = total_cts – witness_cts\n",
    "* Open area OA = (foil_cts/witness_cts) * (witness_area/foil_area)"
   ]
  },
  {
   "cell_type": "code",
   "execution_count": 1,
   "metadata": {},
   "outputs": [
    {
     "name": "stderr",
     "output_type": "stream",
     "text": [
      "/Users/balarsen/miniconda3/envs/python3/lib/python3.6/site-packages/matplotlib/__init__.py:913: UserWarning: axes.color_cycle is deprecated and replaced with axes.prop_cycle; please use the latter.\n",
      "  warnings.warn(self.msg_depr % (key, alt_key))\n"
     ]
    },
    {
     "ename": "ModuleNotFoundError",
     "evalue": "No module named 'pymc'",
     "output_type": "error",
     "traceback": [
      "\u001b[0;31m---------------------------------------------------------------------------\u001b[0m",
      "\u001b[0;31mModuleNotFoundError\u001b[0m                       Traceback (most recent call last)",
      "\u001b[0;32m<ipython-input-1-6e1255deb835>\u001b[0m in \u001b[0;36m<module>\u001b[0;34m()\u001b[0m\n\u001b[1;32m      7\u001b[0m \u001b[0;32mimport\u001b[0m \u001b[0mnumpy\u001b[0m \u001b[0;32mas\u001b[0m \u001b[0mnp\u001b[0m\u001b[0;34m\u001b[0m\u001b[0m\n\u001b[1;32m      8\u001b[0m \u001b[0;32mimport\u001b[0m \u001b[0mspacepy\u001b[0m\u001b[0;34m.\u001b[0m\u001b[0mplot\u001b[0m \u001b[0;32mas\u001b[0m \u001b[0mspp\u001b[0m\u001b[0;34m\u001b[0m\u001b[0m\n\u001b[0;32m----> 9\u001b[0;31m \u001b[0;32mimport\u001b[0m \u001b[0mpymc\u001b[0m \u001b[0;32mas\u001b[0m \u001b[0mmc\u001b[0m\u001b[0;34m\u001b[0m\u001b[0m\n\u001b[0m\u001b[1;32m     10\u001b[0m \u001b[0;32mimport\u001b[0m \u001b[0mtqdm\u001b[0m\u001b[0;34m\u001b[0m\u001b[0m\n\u001b[1;32m     11\u001b[0m \u001b[0;34m\u001b[0m\u001b[0m\n",
      "\u001b[0;31mModuleNotFoundError\u001b[0m: No module named 'pymc'"
     ]
    }
   ],
   "source": [
    "import itertools\n",
    "from pprint import pprint\n",
    "from operator import getitem\n",
    "\n",
    "import matplotlib.pyplot as plt\n",
    "from matplotlib.colors import LogNorm\n",
    "import numpy as np\n",
    "import spacepy.plot as spp\n",
    "import pymc as mc\n",
    "import tqdm\n",
    "\n",
    "from MCA_file_viewer_v001 import GetMCAfile"
   ]
  },
  {
   "cell_type": "code",
   "execution_count": null,
   "metadata": {
    "collapsed": true
   },
   "outputs": [],
   "source": [
    "def plot_box(x, y, c='r', lw=0.6, ax=None):\n",
    "    if ax is None:\n",
    "        plt.plot((xind[0], xind[0]), (yind[0], yind[1]), lw=lw, c=c)\n",
    "        plt.plot((xind[1], xind[1]), (yind[0], yind[1]), lw=lw, c=c)\n",
    "        plt.plot((xind[0], xind[1]), (yind[0], yind[0]), lw=lw, c=c)\n",
    "        plt.plot((xind[0], xind[1]), (yind[1], yind[1]), lw=lw, c=c)\n",
    "    else:\n",
    "        ax.plot((xind[0], xind[0]), (yind[0], yind[1]), lw=lw, c=c)\n",
    "        ax.plot((xind[1], xind[1]), (yind[0], yind[1]), lw=lw, c=c)\n",
    "        ax.plot((xind[0], xind[1]), (yind[0], yind[0]), lw=lw, c=c)\n",
    "        ax.plot((xind[0], xind[1]), (yind[1], yind[1]), lw=lw, c=c)\n",
    "        "
   ]
  },
  {
   "cell_type": "code",
   "execution_count": null,
   "metadata": {},
   "outputs": [],
   "source": [
    "ZZ, XX, YY = GetMCAfile('16090203.mca')\n",
    "# It is believed as of 2016-09-19 that the MCA records 2 counts for each count. \n",
    "#    This means all data are even and all the data can be divided by 2 to give the\n",
    "#    right number of counts. Per emails Larsen-Fernandes 2016-09-17\n",
    "#    These data are integres and care muct be taken to assure that /2 does not\n",
    "#    lead to number that are not representable in float\n",
    "ZZ = ZZ.astype(float)\n",
    "ZZ /= 2\n",
    "XX = XX.astype(np.uint16) # as they all should be integers anyway\n"
   ]
  },
  {
   "cell_type": "code",
   "execution_count": null,
   "metadata": {},
   "outputs": [],
   "source": [
    "xind = (986, 1003)\n",
    "yind = (492, 506)\n",
    "\n",
    "fig = plt.figure(figsize=(20,8))\n",
    "ax1 = fig.add_subplot(131)\n",
    "ax2 = fig.add_subplot(132)\n",
    "ax3 = fig.add_subplot(133)\n",
    "\n",
    "pc = ax1.pcolormesh(XX, YY, ZZ, norm=LogNorm())\n",
    "plt.colorbar(pc, ax=ax1)\n",
    "plot_box(xind, yind, ax=ax1)\n",
    "\n",
    "ax2.hist(ZZ.flatten(), 20)\n",
    "ax2.set_yscale('log')\n",
    "\n",
    "ax3.hist(ZZ.flatten(), 20, normed=True)\n",
    "ax3.set_yscale('log')"
   ]
  },
  {
   "cell_type": "markdown",
   "metadata": {},
   "source": [
    "## Do some calculations to try and match Phil's analysis"
   ]
  },
  {
   "cell_type": "markdown",
   "metadata": {},
   "source": [
    "Phil's data:\n",
    "\n",
    "File name\tWitness cts\tTotal cts\tFoil cts\tOpen area\n",
    "\n",
    "16090203\t658\t4570\t3912\t0.00102"
   ]
  },
  {
   "cell_type": "code",
   "execution_count": null,
   "metadata": {},
   "outputs": [],
   "source": [
    "total_cnts = ZZ.sum()\n",
    "print('Total counts:{0}  -- Phil got {1} -- remember /2'.format(total_cnts, 4570/2)) # remember we did a /2"
   ]
  },
  {
   "cell_type": "code",
   "execution_count": null,
   "metadata": {},
   "outputs": [],
   "source": [
    "# Is the whitness hole at x=1000, y=500?\n",
    "XX.shape, YY.shape, ZZ.shape"
   ]
  },
  {
   "cell_type": "code",
   "execution_count": null,
   "metadata": {
    "scrolled": false
   },
   "outputs": [],
   "source": [
    "\n",
    "print(ZZ[yind[0]:yind[1], xind[0]:xind[1]])\n",
    "plt.figure()\n",
    "plt.pcolormesh(XX[xind[0]:xind[1]], YY[yind[0]:yind[1]], ZZ[yind[0]:yind[1], xind[0]:xind[1]] , norm=LogNorm())\n",
    "plt.colorbar()\n",
    "\n",
    "witness_counts = ZZ[yind[0]:yind[1], xind[0]:xind[1]].sum()\n",
    "\n",
    "print('Witness counts: {0}, Phil got {1}/2={2}'.format(witness_counts, 658, 658/2))\n",
    "wit_pixels = 46\n",
    "print('There {0} pixels in the witness peak'.format(wit_pixels))\n",
    "\n",
    "total_counts = ZZ.sum()\n",
    "print(\"There are a total of {0} counts\".format(total_counts))\n"
   ]
  },
  {
   "cell_type": "markdown",
   "metadata": {},
   "source": [
    "## Can we get a noise estimate? \n",
    "1) Try all pixels with a value where a neighbor does not. This assumes that real holes are large enough to have a point spread function and therefore cannot be in a single pixel."
   ]
  },
  {
   "cell_type": "code",
   "execution_count": null,
   "metadata": {},
   "outputs": [],
   "source": [
    "def neighbor_inds(x, y, xlim=(0,1023), ylim=(0,1023), center=False, mask=False):\n",
    "    \"\"\"\n",
    "    given an x and y index return the 8 neighbor indices\n",
    "    \n",
    "    if center also return the center index\n",
    "    if mask return a boolean mask over the whole 2d array\n",
    "    \"\"\"\n",
    "    xi = np.clip([x + v for v in [-1, 0, 1]], xlim[0], xlim[1])\n",
    "    yi = np.clip([y + v for v in [-1, 0, 1]], ylim[0], ylim[1])\n",
    "    ans = [(i, j) for i, j in itertools.product(xi, yi)]\n",
    "    if not center:\n",
    "        ans.remove((x,y))\n",
    "    if mask:\n",
    "        out = np.zeros((np.diff(xlim)+1, np.diff(ylim)+1), dtype=np.bool)\n",
    "        for c in ans:\n",
    "            out[c] = True\n",
    "    else:\n",
    "        out = ans\n",
    "    return np.asarray(out)\n",
    "\n",
    "print(neighbor_inds(2,2))\n",
    "print(neighbor_inds(2,2, mask=True))\n",
    "print(ZZ[neighbor_inds(500, 992, mask=True)])\n",
    "\n",
    "    "
   ]
  },
  {
   "cell_type": "code",
   "execution_count": null,
   "metadata": {},
   "outputs": [],
   "source": [
    "def get_alone_pixels(dat):\n",
    "    \"\"\"\n",
    "    loop over all the data and store the value of all lone pixels\n",
    "    \"\"\"\n",
    "    ans = []\n",
    "    for index, x in tqdm.tqdm_notebook(np.ndenumerate(dat)):\n",
    "        if (np.sum([ZZ[i, j] for i, j in neighbor_inds(index[0], index[1])]) == 0) and x != 0:\n",
    "            ans.append((index, x))\n",
    "    return ans\n",
    "# print((neighbor_inds(5, 4)))\n",
    "alone = get_alone_pixels(ZZ)\n",
    "pprint(alone)\n",
    "# ZZ[neighbor_inds(5, 4)[0]].shape\n",
    "# print((neighbor_inds(5, 4))[0])\n",
    "# print(ZZ[(neighbor_inds(5, 4))[0]].shape)\n",
    "# ZZ[4,3]"
   ]
  },
  {
   "cell_type": "code",
   "execution_count": null,
   "metadata": {},
   "outputs": [],
   "source": [
    "ZZ[(965, 485)]"
   ]
  },
  {
   "cell_type": "code",
   "execution_count": null,
   "metadata": {},
   "outputs": [],
   "source": [
    "print(neighbor_inds(4,3)[0])\n",
    "print(ZZ[neighbor_inds(4,3)[0]])\n",
    "print(ZZ[3,2])\n",
    "\n",
    "ni = neighbor_inds(4,3)[0]\n",
    "print(ZZ[ni[0], ni[1]])"
   ]
  },
  {
   "cell_type": "code",
   "execution_count": null,
   "metadata": {},
   "outputs": [],
   "source": [
    "(ZZ % 2).any() # not all even any longer"
   ]
  },
  {
   "cell_type": "markdown",
   "metadata": {
    "collapsed": true
   },
   "source": [
    "### Noise estimates\n",
    "Not we assume that all lone counts are noise that can be considered random and uniform over the MCP. \n",
    "This then provides a number of counts per MCA pixel that we can use. "
   ]
  },
  {
   "cell_type": "code",
   "execution_count": null,
   "metadata": {},
   "outputs": [],
   "source": [
    "n_noise = np.sum([v[1] for v in alone])\n",
    "n_pixels = 1024*1024\n",
    "noise_pixel = n_noise/n_pixels\n",
    "print(\"There were a total of {0} random counts over {1} pixels, {2} cts/pixel\".format(n_noise, n_pixels, noise_pixel))"
   ]
  },
  {
   "cell_type": "markdown",
   "metadata": {},
   "source": [
    "Maybe we should consider just part of the MCP, lets get the min,max X and min,max Y where there are counts and just use that area. This will increase the cts/pixel."
   ]
  },
  {
   "cell_type": "code",
   "execution_count": null,
   "metadata": {},
   "outputs": [],
   "source": [
    "minx_tmp = ZZ.sum(axis=0)\n",
    "minx_tmp.shape\n",
    "print(minx_tmp)\n",
    "\n",
    "miny_tmp = ZZ.sum(axis=1)\n",
    "miny_tmp.shape\n",
    "print(miny_tmp)\n",
    "\n"
   ]
  },
  {
   "cell_type": "markdown",
   "metadata": {},
   "source": [
    "Looks to go all the way to all sides in X-Y."
   ]
  },
  {
   "cell_type": "markdown",
   "metadata": {},
   "source": [
    "## Work to total open area calculations\n",
    "Now we can model the total open area of the foil given the noise estimate per pixel and the pixels that are a part of the witness sample and the total area.\n",
    "\n",
    "We model the observed background as Poisson with center at the real background:\n",
    "\n",
    "$obsnbkg \\sim Pois(nbkg)$\n",
    "\n",
    "We model the observed witness sample, $obswit$, as Poisson with center of background per pixel times number of pixels in peak plus the number of real counts:\n",
    "\n",
    "$obswit \\sim Pois(nbkg/C + witc)$, $C = \\frac{A_w}{A_t}$\n",
    "\n",
    "This then leaves the number of counts in open areas of the system (excluding witness) as a Poisson with center of background per pixel times number of pixels in the system (less witness) plus the real number of counts.\n",
    "\n",
    "$obsopen \\sim Pois(nbkg/D + realc)$, $D=\\frac{A_t - A_w}{A_t}$\n",
    "\n",
    "Then then the open area is given by the ratio number of counts, $realc$, over an unknown area, $A_o$, as related to witness counts, $witc$, to the witness area, $A_w$, which is assumed perfect as as 0.6mm hole.\n",
    "\n",
    "$\\frac{A_o}{realc}=\\frac{A_w}{witc} => A_o = \\frac{A_w}{witc}realc $\n"
   ]
  },
  {
   "cell_type": "code",
   "execution_count": null,
   "metadata": {},
   "outputs": [],
   "source": [
    "Aw = np.pi*(0.2/2)**2 # mm**2\n",
    "Af = 182.75 # mm**2  this is the area of the foil\n",
    "W_F_ratio = Aw/Af\n",
    "\n",
    "print(Aw, Af, W_F_ratio)\n",
    "\n",
    "C = wit_pixels/n_pixels\n",
    "D = (n_pixels-wit_pixels)/n_pixels\n",
    "print('C', C, 'D', D)\n",
    "\n",
    "\n",
    "nbkg = mc.Uniform('nbkg', 1, n_noise*5) # just 1 to some large number\n",
    "obsnbkg = mc.Poisson('obsnbkg', nbkg, observed=True, value=n_noise)\n",
    "\n",
    "witc = mc.Uniform('witc', 0, witness_counts*5) # just 0 to some large number\n",
    "obswit = mc.Poisson('obswit', nbkg*C + witc, observed=True, value=witness_counts)\n",
    "\n",
    "realc = mc.Uniform('realc', 0, total_counts*5) # just 0 to some large number\n",
    "obsopen = mc.Poisson('obsopen', nbkg*D + realc, observed=True, value=total_counts-witness_counts)\n",
    "\n",
    "@mc.deterministic(plot=True)\n",
    "def open_area(realc=realc, witc=witc):\n",
    "    return realc*Aw/witc/Af\n",
    "\n",
    "model = mc.MCMC([nbkg, obsnbkg, witc, obswit, realc, obsopen, open_area])"
   ]
  },
  {
   "cell_type": "code",
   "execution_count": null,
   "metadata": {
    "scrolled": false
   },
   "outputs": [],
   "source": [
    "model.sample(200000, burn=100, thin=30, burn_till_tuned=True)\n",
    "mc.Matplot.plot(model)\n",
    "\n",
    "# 1000, burn=100, thin=30    0.000985 +/- 0.000058\n",
    "# 10000, burn=100, thin=30   0.000982 +/- 0.000061\n",
    "# 100000, burn=100, thin=30  0.000984 +/- 0.000059\n",
    "# 200000, burn=100, thin=30  0.000986 +/- 0.000059\n",
    "# 1000000, burn=100, thin=30 0.000985 +/- 0.000059"
   ]
  },
  {
   "cell_type": "code",
   "execution_count": null,
   "metadata": {
    "scrolled": true
   },
   "outputs": [],
   "source": [
    "print(\"Foil 1 \\n\")\n",
    "\n",
    "witc_mean = np.mean(witc.trace()[...])\n",
    "witc_std = np.std(witc.trace()[...])\n",
    "\n",
    "print(\"Found witness counts of {0} turn into {1} +/- {2}  ({3:.2f}%)\\n\".format(witness_counts, witc_mean, witc_std, witc_std/witc_mean*100))\n",
    "\n",
    "realc_mean = np.mean(realc.trace()[...])\n",
    "realc_std = np.std(realc.trace()[...])\n",
    "\n",
    "print(\"Found non-witness counts of {0} turn into {1} +/- {2}  ({3:.2f}%)\\n\".format(total_counts-witness_counts, realc_mean, realc_std, realc_std/realc_mean*100))\n",
    "\n",
    "nbkg_mean = np.mean(nbkg.trace()[...])\n",
    "nbkg_std = np.std(nbkg.trace()[...])\n",
    "\n",
    "print(\"Found noise counts of {0} turn into {1} +/- {2}  ({3:.2f}%)\\n\".format(0, nbkg_mean, nbkg_std, nbkg_std/nbkg_mean*100))\n",
    "\n",
    "OA_median = np.median(open_area.trace()[...])\n",
    "OA_mean = np.mean(open_area.trace()[...])\n",
    "OA_std = np.std(open_area.trace()[...])\n",
    "print(\"The open area fraction is {0:.6f} +/- {1:.6f}   ({2:.2f}%) at the 1 stddev level from 1 measurement\\n\".format(OA_mean, OA_std,OA_std/OA_mean*100 ))\n",
    "print(\"Phil got {0} for 1 measurement\\n\".format(0.00139))\n",
    "print(\"The ratio Brian/Phil is: {0:.6f} or {1:.6f}\".format(OA_mean/0.00139, 0.00139/OA_mean))\n"
   ]
  },
  {
   "cell_type": "markdown",
   "metadata": {
    "collapsed": true
   },
   "source": [
    "## Run again allowing some uncertainity on witness and foil areas"
   ]
  },
  {
   "cell_type": "code",
   "execution_count": null,
   "metadata": {},
   "outputs": [],
   "source": [
    "_Aw = np.pi*(0.2/2)**2 # mm**2\n",
    "_Af = 182.75 # mm**2  this is the area of the foil\n",
    "\n",
    "Aw = mc.Normal('Aw', _Aw, (_Aw*0.2)**-2) # 20%\n",
    "Af = mc.Normal('Af', _Af, (_Af*0.1)**-2)  # 10%\n",
    "\n",
    "print(_Aw, _Af)\n",
    "\n",
    "C = wit_pixels/n_pixels\n",
    "D = (n_pixels-wit_pixels)/n_pixels\n",
    "print('C', C, 'D', D)\n",
    "\n",
    "\n",
    "nbkg = mc.Uniform('nbkg', 1, n_noise*5) # just 1 to some large number\n",
    "obsnbkg = mc.Poisson('obsnbkg', nbkg, observed=True, value=n_noise)\n",
    "\n",
    "witc = mc.Uniform('witc', 0, witness_counts*5) # just 0 to some large number\n",
    "obswit = mc.Poisson('obswit', nbkg*C + witc, observed=True, value=witness_counts)\n",
    "\n",
    "realc = mc.Uniform('realc', 0, total_counts*5) # just 0 to some large number\n",
    "obsopen = mc.Poisson('obsopen', nbkg*D + realc, observed=True, value=total_counts-witness_counts)\n",
    "\n",
    "@mc.deterministic(plot=True)\n",
    "def open_area(realc=realc, witc=witc, Aw=Aw, Af=Af):\n",
    "    return realc*Aw/witc/Af\n",
    "\n",
    "model = mc.MCMC([nbkg, obsnbkg, witc, obswit, realc, obsopen, open_area, Af, Aw])"
   ]
  },
  {
   "cell_type": "code",
   "execution_count": null,
   "metadata": {
    "scrolled": false
   },
   "outputs": [],
   "source": [
    "model.sample(200000, burn=100, thin=30, burn_till_tuned=True)\n"
   ]
  },
  {
   "cell_type": "code",
   "execution_count": null,
   "metadata": {
    "scrolled": false
   },
   "outputs": [],
   "source": [
    "mc.Matplot.plot(nbkg)\n",
    "mc.Matplot.plot(witc)\n",
    "mc.Matplot.plot(realc)\n",
    "# mc.Matplot.plot(open_area)\n",
    "mc.Matplot.plot(Aw)\n",
    "\n",
    "_ = spp.plt.hist(open_area.trace(), 20)\n",
    "\n"
   ]
  },
  {
   "cell_type": "code",
   "execution_count": null,
   "metadata": {
    "scrolled": true
   },
   "outputs": [],
   "source": [
    "print(\"Foil 1 \\n\")\n",
    "\n",
    "witc_mean = np.mean(witc.trace()[...])\n",
    "witc_std = np.std(witc.trace()[...])\n",
    "\n",
    "print(\"Found witness counts of {0} turn into {1} +/- {2}  ({3:.2f}%)\\n\".format(witness_counts, witc_mean, witc_std, witc_std/witc_mean*100))\n",
    "\n",
    "realc_mean = np.mean(realc.trace()[...])\n",
    "realc_std = np.std(realc.trace()[...])\n",
    "\n",
    "print(\"Found non-witness counts of {0} turn into {1} +/- {2}  ({3:.2f}%)\\n\".format(total_counts-witness_counts, realc_mean, realc_std, realc_std/realc_mean*100))\n",
    "\n",
    "nbkg_mean = np.mean(nbkg.trace()[...])\n",
    "nbkg_std = np.std(nbkg.trace()[...])\n",
    "\n",
    "print(\"Found noise counts of {0} turn into {1} +/- {2}  ({3:.2f}%)\\n\".format(0, nbkg_mean, nbkg_std, nbkg_std/nbkg_mean*100))\n",
    "\n",
    "OA_median = np.median(open_area.trace()[...])\n",
    "OA_mean = np.mean(open_area.trace()[...])\n",
    "OA_std = np.std(open_area.trace()[...])\n",
    "print(\"The open area fraction is {0:.6f} +/- {1:.6f}   ({2:.2f}%) at the 1 stddev level from 1 measurement\\n\".format(OA_mean, OA_std,OA_std/OA_mean*100 ))\n",
    "print(\"Phil got {0} for 1 measurement\\n\".format(0.00139))\n",
    "print(\"The ratio Brian/Phil is: {0:.6f} or {1:.6f}\".format(OA_mean/0.00139, 0.00139/OA_mean))\n"
   ]
  },
  {
   "cell_type": "code",
   "execution_count": null,
   "metadata": {},
   "outputs": [],
   "source": [
    "mc.Matplot.plot(Aw)\n"
   ]
  },
  {
   "cell_type": "code",
   "execution_count": null,
   "metadata": {
    "collapsed": true
   },
   "outputs": [],
   "source": []
  }
 ],
 "metadata": {
  "anaconda-cloud": {},
  "kernelspec": {
   "display_name": "Python 3",
   "language": "python",
   "name": "python3"
  },
  "language_info": {
   "codemirror_mode": {
    "name": "ipython",
    "version": 3
   },
   "file_extension": ".py",
   "mimetype": "text/x-python",
   "name": "python",
   "nbconvert_exporter": "python",
   "pygments_lexer": "ipython3",
   "version": "3.6.1"
  },
  "widgets": {
   "state": {
    "13934cc4ac2b46d5828af64682dc610d": {
     "views": [
      {
       "cell_index": 13
      }
     ]
    }
   },
   "version": "1.2.0"
  }
 },
 "nbformat": 4,
 "nbformat_minor": 1
}
