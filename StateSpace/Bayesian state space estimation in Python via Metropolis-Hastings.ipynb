{
 "cells": [
  {
   "cell_type": "code",
   "execution_count": 1,
   "metadata": {
    "collapsed": true
   },
   "outputs": [],
   "source": [
    "# stolen from http://www.chadfulton.com/posts/state_space_mh.html"
   ]
  },
  {
   "cell_type": "markdown",
   "metadata": {},
   "source": [
    "\n",
    "Bayesian state space estimation in Python via Metropolis-Hastings\n",
    "This post demonstrates how to use the (http://www.statsmodels.org/) tsa.statespace package along with the PyMC to very simply estimate the parameters of a state space model via the Metropolis-Hastings algorithm (a Bayesian posterior simulation technique).\n",
    "Although the technique is general to any state space model available in Statsmodels and also to any custom state space model, the provided example is in terms of the local level model and the equivalent ARIMA(0,1,1) model."
   ]
  },
  {
   "cell_type": "code",
   "execution_count": 2,
   "metadata": {
    "collapsed": true
   },
   "outputs": [],
   "source": [
    "\n",
    "%matplotlib inline\n",
    "\n",
    "import numpy as np\n",
    "import pandas as pd\n",
    "import pymc as mc\n",
    "from scipy import signal\n",
    "import statsmodels.api as sm\n",
    "import matplotlib.pyplot as plt\n",
    "\n",
    "np.set_printoptions(precision=4, suppress=True, linewidth=120)"
   ]
  },
  {
   "cell_type": "markdown",
   "metadata": {},
   "source": [
    "\n",
    "Suppose we have a time series $YT≡{yt}Tt=0YT≡{yt}t=0T$ which we model as local level process:\n",
    "ytμt+1=μt+εt,εt∼N(0,σ2ε)=μt+ηt,ηt∼N(0,σ2η)\n",
    "yt=μt+εt,εt∼N(0,σε2)μt+1=μt+ηt,ηt∼N(0,ση2)\n",
    "In this model, there are two unknown parameters, which we will collected in a vector ψψ, so that: ψ=(σ2ε,σ2η)ψ=(σε2,ση2); let's set their true values as follows (denoted with the subscript 0):\n",
    "ψ0=(σ2ε,0,σ2η,0)=(3,10)\n",
    "ψ0=(σε,02,ση,02)=(3,10)\n",
    "Finally, we also must specify the prior μ0∼N(m0,P0)μ0∼N(m0,P0) to initialize the Kalman filter.\n",
    "Set T=1000T=1000."
   ]
  },
  {
   "cell_type": "code",
   "execution_count": 3,
   "metadata": {
    "collapsed": false
   },
   "outputs": [
    {
     "data": {
      "image/png": "[encoded data removed]",
      "text/plain": [
       "<matplotlib.figure.Figure at 0x11507c5c0>"
      ]
     },
     "metadata": {},
     "output_type": "display_data"
    }
   ],
   "source": [
    "\n",
    "# True values\n",
    "T = 1000\n",
    "sigma2_eps0 = 3\n",
    "sigma2_eta0 = 10\n",
    "\n",
    "# Simulate data\n",
    "np.random.seed(1234)\n",
    "eps = np.random.normal(scale=sigma2_eps0**0.5, size=T)\n",
    "eta = np.random.normal(scale=sigma2_eta0**0.5, size=T)\n",
    "mu = np.cumsum(eta)\n",
    "y = mu + eps\n",
    "\n",
    "# Plot the time series\n",
    "fig, ax = plt.subplots(figsize=(13,2))\n",
    "ax.plot(y);\n",
    "ax.set(xlabel='$T$', title='Simulated series');"
   ]
  },
  {
   "cell_type": "markdown",
   "metadata": {},
   "source": [
    "\n",
    "It turns out it will be convenient to write the model in terms of the precision of εε, defined to be h−1≡σ2εh−1≡σε2, and the ratio of the variances: q≡σ2η/σ2εq≡ση2/σε2 so that qh−1=σ2ηqh−1=ση2.\n",
    "Then our error terms can be written:\n",
    "εt∼N(0,h−1)ηt∼N(0,qh−1)\n",
    "εt∼N(0,h−1)ηt∼N(0,qh−1)\n",
    "And the true values are:\n",
    "h−10=1/3=0.33h0−1=1/3=0.33\n",
    "q=10/3=3.33q=10/3=3.33\n",
    "To take a Bayesian approach to this problem, we assume that ψψ is a random variable, and we want to learn about the values of ψψ based on the data YTYT; in fact we want a density p(ψ|YT)p(ψ|YT). To do this, we use Bayes rule to write:\n",
    "p(ψ|YT)=p(YT|ψ)p(ψ)p(YT)\n",
    "p(ψ|YT)=p(YT|ψ)p(ψ)p(YT)\n",
    "or\n",
    "p(ψ|YT)⏟posterior∝p(YT|ψ)⏟likelihoodp(ψ)⏟prior\n",
    "p(ψ|YT)⏟posterior∝p(YT|ψ)⏟likelihoodp(ψ)⏟prior\n",
    "The object of interest is the posterior; to achieve it we need to specify a prior density for the unknown parameters and the likelihood function of the model.\n",
    "Prior\n",
    "We will use the following priors:\n",
    "Precision\n",
    "Since the precision must be positive, but has no theoretical upper bound, we use a Gamma prior:\n",
    "h∼Gamma(αh,βh)\n",
    "h∼Gamma(αh,βh)\n",
    "to be specific, the density is written:\n",
    "p(h)=βαhhΓ(α)hαh−1e−βhh\n",
    "p(h)=βhαhΓ(α)hαh−1e−βhh\n",
    "and we set the hyperparameters as αh=2,βh=2αh=2,βh=2. In this case, we have E(h)=αh/βh=1E(h)=αh/βh=1 and also E(h−1)=E(σ2ε)=1E(h−1)=E(σε2)=1.\n",
    "Ratio of variances\n",
    "Similarly, the ratio of variances must be positive, but has no theoretical upper bound, so we again use an (independent) Gamma prior:\n",
    "q∼Gamma(αq,βq)\n",
    "q∼Gamma(αq,βq)\n",
    "and we set the same hyperparameters, so αq=2,βq=2αq=2,βq=2. Since E(q)=1E(q)=1, our prior is of equal variances. We then have E(σ2η)=E(qh−1)=E(q)E(h−1)=1E(ση2)=E(qh−1)=E(q)E(h−1)=1.\n",
    "Initial state prior\n",
    "As noted above, the Kalman filter must be initialized with μ0∼N(m0,P0)μ0∼N(m0,P0). We will use the following approximately diffuse prior:\n",
    "μ0∼N(0,106)\n",
    "μ0∼N(0,106)\n",
    "Likelihood\n",
    "For given parameters, likelihood of this model can be calculated via prediction error decomposition using an application of the Kalman filter iterations.\n",
    "Posterior Simulation: Metropolis-Hastings\n",
    "One option for describing the posterior is via MCMC posterior simulation methods. The Metropolis-Hastings algorthm is simple and only requires the ability to evaluate the prior densities and the likelihood. The priors have known densities, and the likelihood function can be computed using the state space models from the Statsmodels tsa.statespace package. We will use the PyMC package to streamline specification of priors and sampling in the Metropolis-Hastings case.\n",
    "The statespace package is meant to make it easy to specify and evaluate state space models. Below, we create a new LocalLevel class. Among other things, it inherits from MLEModel a loglike method which we can use to evaluate the likelihood at various parameters."
   ]
  },
  {
   "cell_type": "code",
   "execution_count": 4,
   "metadata": {
    "collapsed": false
   },
   "outputs": [
    {
     "ename": "AttributeError",
     "evalue": "module 'statsmodels.tsa.api' has no attribute 'statespace'",
     "output_type": "error",
     "traceback": [
      "\u001b[0;31m---------------------------------------------------------------------------\u001b[0m",
      "\u001b[0;31mAttributeError\u001b[0m                            Traceback (most recent call last)",
      "\u001b[0;32m<ipython-input-4-dfb71c1c2368>\u001b[0m in \u001b[0;36m<module>\u001b[0;34m()\u001b[0m\n\u001b[1;32m      4\u001b[0m \u001b[0;34m\u001b[0m\u001b[0m\n\u001b[1;32m      5\u001b[0m \u001b[0;31m# Likelihood calculated using the state-space model\u001b[0m\u001b[0;34m\u001b[0m\u001b[0;34m\u001b[0m\u001b[0m\n\u001b[0;32m----> 6\u001b[0;31m \u001b[0;32mclass\u001b[0m \u001b[0mLocalLevel\u001b[0m\u001b[0;34m(\u001b[0m\u001b[0msm\u001b[0m\u001b[0;34m.\u001b[0m\u001b[0mtsa\u001b[0m\u001b[0;34m.\u001b[0m\u001b[0mstatespace\u001b[0m\u001b[0;34m.\u001b[0m\u001b[0mMLEModel\u001b[0m\u001b[0;34m)\u001b[0m\u001b[0;34m:\u001b[0m\u001b[0;34m\u001b[0m\u001b[0m\n\u001b[0m\u001b[1;32m      7\u001b[0m     \u001b[0;32mdef\u001b[0m \u001b[0m__init__\u001b[0m\u001b[0;34m(\u001b[0m\u001b[0mself\u001b[0m\u001b[0;34m,\u001b[0m \u001b[0mendog\u001b[0m\u001b[0;34m)\u001b[0m\u001b[0;34m:\u001b[0m\u001b[0;34m\u001b[0m\u001b[0m\n\u001b[1;32m      8\u001b[0m         \u001b[0;31m# Initialize the state space model\u001b[0m\u001b[0;34m\u001b[0m\u001b[0;34m\u001b[0m\u001b[0m\n",
      "\u001b[0;31mAttributeError\u001b[0m: module 'statsmodels.tsa.api' has no attribute 'statespace'"
     ]
    }
   ],
   "source": [
    "# Priors\n",
    "precision = mc.Gamma('precision', 2, 4)\n",
    "ratio = mc.Gamma('ratio', 2, 1)\n",
    "\n",
    "# Likelihood calculated using the state-space model\n",
    "class LocalLevel(sm.tsa.statespace.MLEModel):\n",
    "    def __init__(self, endog):\n",
    "        # Initialize the state space model\n",
    "        super(LocalLevel, self).__init__(endog, k_states=1,\n",
    "                                         initialization='approximate_diffuse',\n",
    "                                         loglikelihood_burn=1)\n",
    "        \n",
    "        # Initialize known components of the state space matrices\n",
    "        self.ssm['design', :] = 1\n",
    "        self.ssm['transition', :] = 1\n",
    "        self.ssm['selection', :] = 1\n",
    "    \n",
    "    @property\n",
    "    def start_params(self):\n",
    "        return [1. / np.var(self.endog), 1.]\n",
    "    \n",
    "    @property\n",
    "    def param_names(self):\n",
    "        return ['h_inv', 'q']\n",
    "    \n",
    "    def update(self, params, transformed=True):\n",
    "        params = super(LocalLevel, self).update(params, transformed)\n",
    "        \n",
    "        h, q = params\n",
    "        sigma2_eps = 1. / h\n",
    "        sigma2_eta = q * sigma2_eps\n",
    "        \n",
    "        self.ssm['obs_cov', 0, 0] = sigma2_eps\n",
    "        self.ssm['state_cov', 0, 0] = sigma2_eta\n",
    "\n",
    "# Instantiate the local level model with our simulated data\n",
    "ll_mod = LocalLevel(y)\n",
    "\n",
    "# Create the stochastic (observed) component\n",
    "@mc.stochastic(dtype=LocalLevel, observed=True)\n",
    "def local_level(value=ll_mod, h=precision, q=ratio):\n",
    "    return value.loglike([h, q], transformed=True)\n",
    "\n",
    "# Create the PyMC model\n",
    "ll_mc = mc.Model((precision, ratio, local_level))\n",
    "\n",
    "# Create a PyMC sample\n",
    "ll_sampler = mc.MCMC(ll_mc)"
   ]
  },
  {
   "cell_type": "code",
   "execution_count": null,
   "metadata": {
    "collapsed": true
   },
   "outputs": [],
   "source": []
  }
 ],
 "metadata": {
  "anaconda-cloud": {},
  "kernelspec": {
   "display_name": "Python [conda env:python3]",
   "language": "python",
   "name": "conda-env-python3-py"
  },
  "language_info": {
   "codemirror_mode": {
    "name": "ipython",
    "version": 3
   },
   "file_extension": ".py",
   "mimetype": "text/x-python",
   "name": "python",
   "nbconvert_exporter": "python",
   "pygments_lexer": "ipython3",
   "version": "3.5.2"
  }
 },
 "nbformat": 4,
 "nbformat_minor": 1
}
