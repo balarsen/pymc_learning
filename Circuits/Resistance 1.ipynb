{
 "cells": [
  {
   "cell_type": "code",
   "execution_count": 2,
   "metadata": {},
   "outputs": [],
   "source": [
    "from IPython.display import Image\n"
   ]
  },
  {
   "cell_type": "markdown",
   "metadata": {},
   "source": [
    "# Explore the uncertainity in the resistance of a sample circuit\n",
    "http://www.electronics-tutorials.ws/resistor/res_5.html\n",
    "\n"
   ]
  },
  {
   "cell_type": "code",
   "execution_count": 3,
   "metadata": {},
   "outputs": [
    {
     "data": {
      "image/gif": "[encoded data removed]",
      "text/plain": [
       "<IPython.core.display.Image object>"
      ]
     },
     "execution_count": 3,
     "metadata": {},
     "output_type": "execute_result"
    }
   ],
   "source": [
    "Image(\"res4.gif\")"
   ]
  },
  {
   "cell_type": "markdown",
   "metadata": {},
   "source": [
    "\n",
    "\n",
    "For this simple circuit the questions are \n",
    "1. what is the end-to-end resistance and its uncertainity?\n",
    "1. What are the currents I1 and I2 and uncertaianity?\n",
    "\n",
    "For each we will assume also that the 12V is not perfect. \n",
    "\n",
    "We will try and answer these questions for the circuit as designed and also for the cuircuit as built with a few measurments of the resistors and see how that impacts the results. \n",
    "\n",
    "The results are:\n",
    "\n",
    "$R_{eff} = 6\\Omega$\n",
    "\n",
    "$I_T = 1A, I_1 = I_2 = 0.5A$\n",
    "\n"
   ]
  },
  {
   "cell_type": "code",
   "execution_count": 5,
   "metadata": {},
   "outputs": [],
   "source": [
    "import numpy as np\n",
    "import matplotlib.pyplot as plt\n",
    "import pymc3 as pm\n",
    "import pandas as pd\n",
    "import seaborn as sns\n",
    "\n",
    "sns.set()\n",
    "%matplotlib inline"
   ]
  },
  {
   "cell_type": "markdown",
   "metadata": {},
   "source": [
    "## Components\n",
    "Each component is assumed to be a normal distriubution of exptected value as listed and the 4, 6, 8 Ohm resistors are 1% while the 12 Ohm is a 5% resistor. \n",
    "\n",
    "Per http://docs.pymc.io/api/bounds.html we will use bounded variables because resistances that are negative are nonsensical. "
   ]
  },
  {
   "cell_type": "code",
   "execution_count": 6,
   "metadata": {},
   "outputs": [
    {
     "name": "stderr",
     "output_type": "stream",
     "text": [
      "logp = 1.3929, ||grad|| = 325.86: 100%|██████████| 41/41 [00:00<00:00, 1926.97it/s]    \n",
      "Auto-assigning NUTS sampler...\n",
      "Initializing NUTS using jitter+adapt_diag...\n",
      "Multiprocess sampling (6 chains in 6 jobs)\n",
      "NUTS: [V1, R4, R3, R2, R1]\n",
      "Sampling 6 chains: 100%|██████████| 33000/33000 [00:14<00:00, 2339.32draws/s]\n"
     ]
    }
   ],
   "source": [
    "## setup the model \n",
    "\n",
    "# these are the values and precision of each\n",
    "Datasheets = {'R1':(6.0, 0.01), \n",
    "              'R2':(8.0, 0.01),\n",
    "              'R3':(4.0, 0.01),\n",
    "              'R4':(12.0, 0.05),\n",
    "              'V1':(6.0, 0.01),} # 1% on the 12V power supply\n",
    "\n",
    "\n",
    "with pm.Model() as model:\n",
    "    BoundedNormal = pm.Bound(pm.Normal, lower=0.0)\n",
    "    # http://docs.pymc.io/api/distributions/continuous.html#pymc3.distributions.continuous.Normal\n",
    "    # in Bayes world these are considered prior distributions, they are based on previous information\n",
    "    #   that is gained in some other manner, from the datasheet in this case. \n",
    "    R1 = BoundedNormal('R1', mu=Datasheets['R1'][0], sd=Datasheets['R1'][0]*Datasheets['R1'][1])\n",
    "    R2 = BoundedNormal('R2', mu=Datasheets['R2'][0], sd=Datasheets['R2'][0]*Datasheets['R2'][1])\n",
    "    R3 = BoundedNormal('R3', mu=Datasheets['R3'][0], sd=Datasheets['R3'][0]*Datasheets['R3'][1])\n",
    "    R4 = BoundedNormal('R4', mu=Datasheets['R4'][0], sd=Datasheets['R4'][0]*Datasheets['R4'][1])\n",
    "    # don't bound the voltage as negative is possilbe\n",
    "    V1 = pm.Normal('V1', mu=Datasheets['V1'][0], sd=Datasheets['V1'][0]*Datasheets['V1'][1])\n",
    "    \n",
    "    # Match should all be done on paper first to get the full answer, but we will do steps here because one can.\n",
    "    #   all at once would be much faster.\n",
    "    \n",
    "    # just add them, we will not get info on R2_3 at the output unless we wrap them in pm.Deterministic\n",
    "    R2_3 = R2+R3\n",
    "    #   R2_3 = pm.Deterministic('R2_3', R2+R3) \n",
    "    \n",
    "    # now get the resistance answer, and we want details\n",
    "    R_eff = pm.Deterministic('R_eff', 1/(1/R2_3 + 1/R4))\n",
    "    \n",
    "    # total current is then just I=V/R\n",
    "    I_t = pm.Deterministic('I_t', V1/R_eff)\n",
    "    # and I_1 and I_2\n",
    "    I_1 = pm.Deterministic('I_1', I_t*R2_3/R4)\n",
    "    I_2 = pm.Deterministic('I_2', I_t-I_1)\n",
    "    \n",
    "    # makes it all a bit clearner to start in a good place\n",
    "    start = pm.find_MAP()\n",
    "    # run a fair number of samples, I have a 8 core machine so run 6\n",
    "    trace = pm.sample(5000, start=start, njobs=6)"
   ]
  },
  {
   "cell_type": "markdown",
   "metadata": {},
   "source": [
    "## Explore and explain the results"
   ]
  },
  {
   "cell_type": "markdown",
   "metadata": {},
   "source": [
    "In the summary what is shown is the variable name ans summary information about each variable. \n",
    "\n",
    "We see that:\n",
    "\n",
    "$R_{eff} = 5.997 \\pm 0.3$,  really $R_{eff}$ is between  $[5.705, 6.302]$\n",
    "\n",
    "or $6\\Omega \\pm 5\\%$\n",
    "\n",
    "$I_t = 1.001 \\pm 0.113$, $[0.892, 1.113]$\n",
    "\n",
    "or $1.001 \\pm 11\\%$\n",
    "\n",
    "So if one is going for a 5% accuracy on the current you cannot say that!\n"
   ]
  },
  {
   "cell_type": "code",
   "execution_count": 7,
   "metadata": {},
   "outputs": [
    {
     "name": "stdout",
     "output_type": "stream",
     "text": [
      "I_t = 1.001 +/- 0.05678\n",
      "I_t = 1.001 +/- 5.67%\n"
     ]
    }
   ],
   "source": [
    "\n",
    "I_t_perc = np.percentile(trace['I_t'], (2.5, 97.5))\n",
    "I_t_mean = trace['I_t'].mean()\n",
    "print('I_t = {:.4} +/- {:.4}'.format(I_t_mean, I_t_perc[1]-I_t_mean))\n",
    "print('I_t = {:.4} +/- {:.4}%'.format(I_t_mean, (I_t_perc[1]-I_t_mean)/I_t_mean*100))"
   ]
  },
  {
   "cell_type": "code",
   "execution_count": 8,
   "metadata": {
    "scrolled": false
   },
   "outputs": [
    {
     "data": {
      "text/html": [
       "<div>\n",
       "<style scoped>\n",
       "    .dataframe tbody tr th:only-of-type {\n",
       "        vertical-align: middle;\n",
       "    }\n",
       "\n",
       "    .dataframe tbody tr th {\n",
       "        vertical-align: top;\n",
       "    }\n",
       "\n",
       "    .dataframe thead th {\n",
       "        text-align: right;\n",
       "    }\n",
       "</style>\n",
       "<table border=\"1\" class=\"dataframe\">\n",
       "  <thead>\n",
       "    <tr style=\"text-align: right;\">\n",
       "      <th></th>\n",
       "      <th>mean</th>\n",
       "      <th>sd</th>\n",
       "      <th>mc_error</th>\n",
       "      <th>hpd_2.5</th>\n",
       "      <th>hpd_97.5</th>\n",
       "      <th>n_eff</th>\n",
       "      <th>Rhat</th>\n",
       "    </tr>\n",
       "  </thead>\n",
       "  <tbody>\n",
       "    <tr>\n",
       "      <th>R_eff</th>\n",
       "      <td>5.995583</td>\n",
       "      <td>0.152911</td>\n",
       "      <td>0.000732</td>\n",
       "      <td>5.689104</td>\n",
       "      <td>6.285985</td>\n",
       "      <td>37483.959034</td>\n",
       "      <td>1.000044</td>\n",
       "    </tr>\n",
       "    <tr>\n",
       "      <th>I_t</th>\n",
       "      <td>1.001417</td>\n",
       "      <td>0.027590</td>\n",
       "      <td>0.000135</td>\n",
       "      <td>0.948134</td>\n",
       "      <td>1.055179</td>\n",
       "      <td>37864.272722</td>\n",
       "      <td>1.000011</td>\n",
       "    </tr>\n",
       "    <tr>\n",
       "      <th>I_1</th>\n",
       "      <td>1.005486</td>\n",
       "      <td>0.077585</td>\n",
       "      <td>0.000375</td>\n",
       "      <td>0.859042</td>\n",
       "      <td>1.157883</td>\n",
       "      <td>36706.968494</td>\n",
       "      <td>1.000025</td>\n",
       "    </tr>\n",
       "    <tr>\n",
       "      <th>I_2</th>\n",
       "      <td>-0.004069</td>\n",
       "      <td>0.051935</td>\n",
       "      <td>0.000249</td>\n",
       "      <td>-0.107100</td>\n",
       "      <td>0.093099</td>\n",
       "      <td>36454.164319</td>\n",
       "      <td>1.000024</td>\n",
       "    </tr>\n",
       "  </tbody>\n",
       "</table>\n",
       "</div>"
      ],
      "text/plain": [
       "           mean        sd  mc_error   hpd_2.5  hpd_97.5         n_eff  \\\n",
       "R_eff  5.995583  0.152911  0.000732  5.689104  6.285985  37483.959034   \n",
       "I_t    1.001417  0.027590  0.000135  0.948134  1.055179  37864.272722   \n",
       "I_1    1.005486  0.077585  0.000375  0.859042  1.157883  36706.968494   \n",
       "I_2   -0.004069  0.051935  0.000249 -0.107100  0.093099  36454.164319   \n",
       "\n",
       "           Rhat  \n",
       "R_eff  1.000044  \n",
       "I_t    1.000011  \n",
       "I_1    1.000025  \n",
       "I_2    1.000024  "
      ]
     },
     "execution_count": 8,
     "metadata": {},
     "output_type": "execute_result"
    }
   ],
   "source": [
    "pm.summary(trace, varnames=('R_eff', 'I_t', 'I_1', 'I_2'))"
   ]
  },
  {
   "cell_type": "markdown",
   "metadata": {},
   "source": [
    "We also good visual diagnostics in terms of traceplots. The right side shows the draws, this should always look like hash, the left side is the Kernel Density Esimator of the output distribution. For this problem it should look pretty darn Normal. \n",
    "\n",
    "For both summary and traceplot, leavre off varnames to jst get them all..."
   ]
  },
  {
   "cell_type": "code",
   "execution_count": 9,
   "metadata": {},
   "outputs": [
    {
     "name": "stderr",
     "output_type": "stream",
     "text": [
      "/Users/balarsen/miniconda3/lib/python3.6/site-packages/matplotlib/axes/_base.py:3455: MatplotlibDeprecationWarning: \n",
      "The `ymin` argument was deprecated in Matplotlib 3.0 and will be removed in 3.2. Use `bottom` instead.\n",
      "  alternative='`bottom`', obj_type='argument')\n",
      "/Users/balarsen/miniconda3/lib/python3.6/site-packages/matplotlib/axes/_base.py:3455: MatplotlibDeprecationWarning: \n",
      "The `ymin` argument was deprecated in Matplotlib 3.0 and will be removed in 3.2. Use `bottom` instead.\n",
      "  alternative='`bottom`', obj_type='argument')\n"
     ]
    },
    {
     "data": {
      "image/png": "[encoded data removed]",
      "text/plain": [
       "<Figure size 864x288 with 4 Axes>"
      ]
     },
     "metadata": {
      "needs_background": "light"
     },
     "output_type": "display_data"
    }
   ],
   "source": [
    "pm.traceplot(trace, combined=True, varnames=('R_eff', 'I_t'));"
   ]
  },
  {
   "cell_type": "markdown",
   "metadata": {},
   "source": [
    "# Now lets say that we made some measurments of R1 and we can use those to contrain things\n",
    "\n",
    "The model has to be a bit different to allow for the measurements. Also we will drop the bounded as while true it is kind of annoying to deal with, cannot observe things on a bounded distribution. "
   ]
  },
  {
   "cell_type": "code",
   "execution_count": null,
   "metadata": {
    "scrolled": false
   },
   "outputs": [
    {
     "name": "stderr",
     "output_type": "stream",
     "text": [
      "logp = 9.4201, ||grad|| = 7.2222: 100%|██████████| 4/4 [00:00<00:00, 1224.79it/s]\n",
      "Auto-assigning NUTS sampler...\n",
      "Initializing NUTS using jitter+adapt_diag...\n",
      "Multiprocess sampling (6 chains in 6 jobs)\n",
      "NUTS: [R1_mean, V1, R4, R3, R2]\n",
      "Sampling 6 chains:  26%|██▌       | 8609/33000 [00:03<00:07, 3049.04draws/s]"
     ]
    }
   ],
   "source": [
    "# setup the model \n",
    "\n",
    "# these are the values and precision of each\n",
    "Datasheets = {'R1':(6.0, 0.01), \n",
    "              'R2':(8.0, 0.01),\n",
    "              'R3':(4.0, 0.01),\n",
    "              'R4':(12.0, 0.05),\n",
    "              'V1':(6.0, 0.05),} # 5% on the 12V power supply\n",
    "\n",
    "measuremnts_R1 = [5.987, 5.987] # we measured it twice\n",
    "\n",
    "with pm.Model() as model:\n",
    "    # http://docs.pymc.io/api/distributions/continuous.html#pymc3.distributions.continuous.Normal\n",
    "    # in Bayes world these are considered prior distributions, they are based on previous information\n",
    "    #   that is gained in some other manner, from the datasheet in this case. \n",
    "    #    R1 = pm.Normal('R1', mu=Datasheets['R1'][0], sd=Datasheets['R1'][0]*Datasheets['R1'][1])\n",
    "    R2 = pm.Normal('R2', mu=Datasheets['R2'][0], sd=Datasheets['R2'][0]*Datasheets['R2'][1])\n",
    "    R3 = pm.Normal('R3', mu=Datasheets['R3'][0], sd=Datasheets['R3'][0]*Datasheets['R3'][1])\n",
    "    R4 = pm.Normal('R4', mu=Datasheets['R4'][0], sd=Datasheets['R4'][0]*Datasheets['R4'][1])\n",
    "    # don't bound the voltage as negative is possilbe\n",
    "    V1 = pm.Normal('V1', mu=Datasheets['V1'][0], sd=Datasheets['V1'][0]*Datasheets['V1'][1])\n",
    "\n",
    "    # so on R1 we took some measurments and so have to build it a bit differently\n",
    "    # use the datasheet for prior\n",
    "    R1_mean = pm.Normal('R1_mean', mu=Datasheets['R1'][0], sd=Datasheets['R1'][0]*Datasheets['R1'][1])\n",
    "    R1 = pm.Normal('R1', mu=R1_mean, sd=Datasheets['R1'][0]*Datasheets['R1'][1], observed=measuremnts_R1)\n",
    "    \n",
    "    \n",
    "    # Match should all be done on paper first to get the full answer, but we will do steps here because one can.\n",
    "    #   all at once would be much faster.\n",
    "    \n",
    "    # just add them, we will not get info on R2_3 at the output unless we wrap them in pm.Deterministic\n",
    "    R2_3 = R2+R3\n",
    "    #   R2_3 = pm.Deterministic('R2_3', R2+R3) \n",
    "    \n",
    "    # now get the resistance answer, and we want details\n",
    "    R_eff = pm.Deterministic('R_eff', 1/(1/R2_3 + 1/R4))\n",
    "    \n",
    "    # total current is then just I=V/R\n",
    "    I_t = pm.Deterministic('I_t', V1/R_eff)\n",
    "    # and I_1 and I_2\n",
    "    I_1 = pm.Deterministic('I_1', I_t*R2_3/R4)\n",
    "    I_2 = pm.Deterministic('I_2', I_t-I_1)\n",
    "    \n",
    "    # makes it all a bit clearner to start in a good place\n",
    "    start = pm.find_MAP()\n",
    "    # run a fair number of samples, I have a 8 core machine so run 6\n",
    "    trace = pm.sample(5000, start=start, njobs=6)"
   ]
  },
  {
   "cell_type": "code",
   "execution_count": null,
   "metadata": {},
   "outputs": [],
   "source": [
    "pm.summary(trace, varnames=('R_eff', 'I_t', 'I_1', 'I_2'))"
   ]
  },
  {
   "cell_type": "code",
   "execution_count": null,
   "metadata": {},
   "outputs": [],
   "source": [
    "pm.traceplot(trace, combined=True, varnames=('R_eff', 'I_t'));"
   ]
  },
  {
   "cell_type": "markdown",
   "metadata": {},
   "source": [
    "## Results \n",
    "So while not a huge difference a single measurment of R1 changed the results:\n",
    "\n",
    "$R_{eff} = [5.705, 6.302]$ became $R_{eff} = [5.688, 6.282]$\n",
    "\n",
    "$I_t = [0.892, 1.113]$ became $I_t = [0.891, 1.110]$\n",
    "\n",
    "A not huge difference but a shift down. \n",
    "\n"
   ]
  },
  {
   "cell_type": "code",
   "execution_count": 55,
   "metadata": {
    "scrolled": false
   },
   "outputs": [
    {
     "name": "stdout",
     "output_type": "stream",
     "text": [
      "I_t = 1.001 +/- 0.1134\n",
      "I_t = 1.001 +/- 11.33%\n"
     ]
    }
   ],
   "source": [
    "I_t_perc = np.percentile(trace['I_t'], (2.5, 97.5))\n",
    "I_t_mean = trace['I_t'].mean()\n",
    "print('I_t = {:.4} +/- {:.4}'.format(I_t_mean, I_t_perc[1]-I_t_mean))\n",
    "print('I_t = {:.4} +/- {:.4}%'.format(I_t_mean, (I_t_perc[1]-I_t_mean)/I_t_mean*100))"
   ]
  },
  {
   "cell_type": "markdown",
   "metadata": {},
   "source": [
    "# How about we buy a better R4?\n",
    "Buy a 1% not a 5%\n",
    "\n",
    "rerun first model with the better resistor (different Bayesian Prior)"
   ]
  },
  {
   "cell_type": "code",
   "execution_count": 56,
   "metadata": {},
   "outputs": [
    {
     "name": "stdout",
     "output_type": "stream",
     "text": [
      "Optimization terminated successfully.\n",
      "         Current function value: -15.030161\n",
      "         Iterations: 2\n",
      "         Function evaluations: 4\n",
      "         Gradient evaluations: 4\n"
     ]
    },
    {
     "name": "stderr",
     "output_type": "stream",
     "text": [
      "Auto-assigning NUTS sampler...\n",
      "Initializing NUTS using ADVI...\n",
      "Average Loss = 277.01:   6%|▌         | 11131/200000 [00:04<01:11, 2634.68it/s]\n",
      "Convergence archived at 11300\n",
      "Interrupted at 11,300 [5%]: Average Loss = 3,782.6\n",
      "100%|██████████| 5500/5500 [00:22<00:00, 248.31it/s]\n"
     ]
    }
   ],
   "source": [
    "# setup the model \n",
    "\n",
    "# these are the values and precision of each\n",
    "Datasheets = {'R1':(6.0, 0.01), \n",
    "              'R2':(8.0, 0.01),\n",
    "              'R3':(4.0, 0.01),\n",
    "              'R4':(12.0, 0.01), # better resistor\n",
    "              'V1':(6.0, 0.05),} # 5% on the 12V power supply\n",
    "\n",
    "\n",
    "with pm.Model() as model:\n",
    "    BoundedNormal = pm.Bound(pm.Normal, lower=0.0)\n",
    "    # http://docs.pymc.io/api/distributions/continuous.html#pymc3.distributions.continuous.Normal\n",
    "    # in Bayes world these are considered prior distributions, they are based on previous information\n",
    "    #   that is gained in some other manner, from the datasheet in this case. \n",
    "    R1 = BoundedNormal('R1', mu=Datasheets['R1'][0], sd=Datasheets['R1'][0]*Datasheets['R1'][1])\n",
    "    R2 = BoundedNormal('R2', mu=Datasheets['R2'][0], sd=Datasheets['R2'][0]*Datasheets['R2'][1])\n",
    "    R3 = BoundedNormal('R3', mu=Datasheets['R3'][0], sd=Datasheets['R3'][0]*Datasheets['R3'][1])\n",
    "    R4 = BoundedNormal('R4', mu=Datasheets['R4'][0], sd=Datasheets['R4'][0]*Datasheets['R4'][1])\n",
    "    # don't bound the voltage as negative is possilbe\n",
    "    V1 = pm.Normal('V1', mu=Datasheets['V1'][0], sd=Datasheets['V1'][0]*Datasheets['V1'][1])\n",
    "    \n",
    "    # Match should all be done on paper first to get the full answer, but we will do steps here because one can.\n",
    "    #   all at once would be much faster.\n",
    "    \n",
    "    # just add them, we will not get info on R2_3 at the output unless we wrap them in pm.Deterministic\n",
    "    R2_3 = R2+R3\n",
    "    #   R2_3 = pm.Deterministic('R2_3', R2+R3) \n",
    "    \n",
    "    # now get the resistance answer, and we want details\n",
    "    R_eff = pm.Deterministic('R_eff', 1/(1/R2_3 + 1/R4))\n",
    "    \n",
    "    # total current is then just I=V/R\n",
    "    I_t = pm.Deterministic('I_t', V1/R_eff)\n",
    "    # and I_1 and I_2\n",
    "    I_1 = pm.Deterministic('I_1', I_t*R2_3/R4)\n",
    "    I_2 = pm.Deterministic('I_2', I_t-I_1)\n",
    "    \n",
    "    # makes it all a bit clearner to start in a good place\n",
    "    start = pm.find_MAP()\n",
    "    # run a fair number of samples, I have a 8 core machine so run 6\n",
    "    trace = pm.sample(5000, start=start, njobs=6)"
   ]
  },
  {
   "cell_type": "code",
   "execution_count": 57,
   "metadata": {},
   "outputs": [
    {
     "name": "stdout",
     "output_type": "stream",
     "text": [
      "I_t = 0.9998 +/- 0.09849\n",
      "I_t = 0.9998 +/- 9.852%\n"
     ]
    }
   ],
   "source": [
    "\n",
    "I_t_perc = np.percentile(trace['I_t'], (2.5, 97.5))\n",
    "I_t_mean = trace['I_t'].mean()\n",
    "print('I_t = {:.4} +/- {:.4}'.format(I_t_mean, I_t_perc[1]-I_t_mean))\n",
    "print('I_t = {:.4} +/- {:.4}%'.format(I_t_mean, (I_t_perc[1]-I_t_mean)/I_t_mean*100))"
   ]
  },
  {
   "cell_type": "markdown",
   "metadata": {},
   "source": [
    "The better resistor helped but are are dominated somewhere else... power supply!"
   ]
  },
  {
   "cell_type": "code",
   "execution_count": null,
   "metadata": {},
   "outputs": [],
   "source": []
  }
 ],
 "metadata": {
  "kernelspec": {
   "display_name": "Python 3",
   "language": "python",
   "name": "python3"
  },
  "language_info": {
   "codemirror_mode": {
    "name": "ipython",
    "version": 3
   },
   "file_extension": ".py",
   "mimetype": "text/x-python",
   "name": "python",
   "nbconvert_exporter": "python",
   "pygments_lexer": "ipython3",
   "version": "3.6.6"
  }
 },
 "nbformat": 4,
 "nbformat_minor": 2
}
