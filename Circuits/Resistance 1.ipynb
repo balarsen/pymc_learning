{
 "cells": [
  {
   "cell_type": "markdown",
   "metadata": {},
   "source": [
    "# Explore the uncertainity in the resistance of a sample circuit\n",
    "http://www.electronics-tutorials.ws/resistor/res_5.html\n",
    "\n",
    "<img src=\"res4.gif\">\n",
    "\n",
    "For this simple circuit the questions are \n",
    "1. what is the end-to-end resistance and its uncertainity?\n",
    "1. What are the currents I1 and I2 and uncertaianity?\n",
    "\n",
    "For each we will assume also that the 12V is not perfect. \n",
    "\n",
    "We will try and answer these questions for the circuit as designed and also for the cuircuit as built with a few measurments of the resistors and see how that impacts the results. \n",
    "\n",
    "The results are:\n",
    "\n",
    "$R_{eff} = 6\\Omega$\n",
    "\n",
    "$I_T = 1A, I_1 = I_2 = 0.5A$\n",
    "\n"
   ]
  },
  {
   "cell_type": "code",
   "execution_count": 58,
   "metadata": {},
   "outputs": [],
   "source": [
    "import numpy as np\n",
    "import matplotlib.pyplot as plt\n",
    "import pymc3 as pm\n",
    "import pandas as pd\n",
    "\n",
    "sns.set()\n",
    "%matplotlib inline"
   ]
  },
  {
   "cell_type": "markdown",
   "metadata": {},
   "source": [
    "## Components\n",
    "Each component is assumed to be a normal distriubution of exptected value as listed and the 4, 6, 8 Ohm resistors are 1% while the 12 Ohm is a 5% resistor. \n",
    "\n",
    "Per http://docs.pymc.io/api/bounds.html we will use bounded variables because resistances that are negative are nonsensical. "
   ]
  },
  {
   "cell_type": "code",
   "execution_count": 48,
   "metadata": {},
   "outputs": [
    {
     "name": "stdout",
     "output_type": "stream",
     "text": [
      "Optimization terminated successfully.\n",
      "         Current function value: -13.421920\n",
      "         Iterations: 10\n",
      "         Function evaluations: 17\n",
      "         Gradient evaluations: 17\n"
     ]
    },
    {
     "name": "stderr",
     "output_type": "stream",
     "text": [
      "Auto-assigning NUTS sampler...\n",
      "Initializing NUTS using ADVI...\n",
      "Average Loss = 210.3:   6%|▌         | 11281/200000 [00:04<01:09, 2708.84it/s] \n",
      "Convergence archived at 11300\n",
      "Interrupted at 11,300 [5%]: Average Loss = 2,904\n",
      "100%|██████████| 5500/5500 [00:34<00:00, 160.64it/s]\n"
     ]
    }
   ],
   "source": [
    "# setup the model \n",
    "\n",
    "# these are the values and precision of each\n",
    "Datasheets = {'R1':(6.0, 0.01), \n",
    "              'R2':(8.0, 0.01),\n",
    "              'R3':(4.0, 0.01),\n",
    "              'R4':(12.0, 0.05),\n",
    "              'V1':(6.0, 0.05),} # 5% on the 12V power supply\n",
    "\n",
    "\n",
    "with pm.Model() as model:\n",
    "    BoundedNormal = pm.Bound(pm.Normal, lower=0.0)\n",
    "    # http://docs.pymc.io/api/distributions/continuous.html#pymc3.distributions.continuous.Normal\n",
    "    # in Bayes world these are considered prior distributions, they are based on previous information\n",
    "    #   that is gained in some other manner, from the datasheet in this case. \n",
    "    R1 = BoundedNormal('R1', mu=Datasheets['R1'][0], sd=Datasheets['R1'][0]*Datasheets['R1'][1])\n",
    "    R2 = BoundedNormal('R2', mu=Datasheets['R2'][0], sd=Datasheets['R2'][0]*Datasheets['R2'][1])\n",
    "    R3 = BoundedNormal('R3', mu=Datasheets['R3'][0], sd=Datasheets['R3'][0]*Datasheets['R3'][1])\n",
    "    R4 = BoundedNormal('R4', mu=Datasheets['R4'][0], sd=Datasheets['R4'][0]*Datasheets['R4'][1])\n",
    "    # don't bound the voltage as negative is possilbe\n",
    "    V1 = pm.Normal('V1', mu=Datasheets['V1'][0], sd=Datasheets['V1'][0]*Datasheets['V1'][1])\n",
    "    \n",
    "    # Match should all be done on paper first to get the full answer, but we will do steps here because one can.\n",
    "    #   all at once would be much faster.\n",
    "    \n",
    "    # just add them, we will not get info on R2_3 at the output unless we wrap them in pm.Deterministic\n",
    "    R2_3 = R2+R3\n",
    "    #   R2_3 = pm.Deterministic('R2_3', R2+R3) \n",
    "    \n",
    "    # now get the resistance answer, and we want details\n",
    "    R_eff = pm.Deterministic('R_eff', 1/(1/R2_3 + 1/R4))\n",
    "    \n",
    "    # total current is then just I=V/R\n",
    "    I_t = pm.Deterministic('I_t', V1/R_eff)\n",
    "    # and I_1 and I_2\n",
    "    I_1 = pm.Deterministic('I_1', I_t*R2_3/R4)\n",
    "    I_2 = pm.Deterministic('I_2', I_t-I_1)\n",
    "    \n",
    "    # makes it all a bit clearner to start in a good place\n",
    "    start = pm.find_MAP()\n",
    "    # run a fair number of samples, I have a 8 core machine so run 6\n",
    "    trace = pm.sample(5000, start=start, njobs=6)"
   ]
  },
  {
   "cell_type": "markdown",
   "metadata": {},
   "source": [
    "## Explore and explain the results"
   ]
  },
  {
   "cell_type": "markdown",
   "metadata": {},
   "source": [
    "In the summary what is shown is the variable name ans summary information about each variable. \n",
    "\n",
    "We see that:\n",
    "\n",
    "$R_{eff} = 5.997 \\pm 0.3$,  really $R_{eff}$ is between  $[5.705, 6.302]$\n",
    "\n",
    "or $6\\Omega \\pm 5\\%$\n",
    "\n",
    "$I_t = 1.001 \\pm 0.113$, $[0.892, 1.113]$\n",
    "\n",
    "or $1.001 \\pm 11\\%$\n",
    "\n",
    "So if one is going for a 5% accuracy on the current you cannot say that!\n"
   ]
  },
  {
   "cell_type": "code",
   "execution_count": 49,
   "metadata": {},
   "outputs": [
    {
     "name": "stdout",
     "output_type": "stream",
     "text": [
      "I_t = 1.0 +/- 0.1132\n",
      "I_t = 1.0 +/- 11.32%\n"
     ]
    }
   ],
   "source": [
    "\n",
    "I_t_perc = np.percentile(trace['I_t'], (2.5, 97.5))\n",
    "I_t_mean = trace['I_t'].mean()\n",
    "print('I_t = {:.4} +/- {:.4}'.format(I_t_mean, I_t_perc[1]-I_t_mean))\n",
    "print('I_t = {:.4} +/- {:.4}%'.format(I_t_mean, (I_t_perc[1]-I_t_mean)/I_t_mean*100))"
   ]
  },
  {
   "cell_type": "code",
   "execution_count": 50,
   "metadata": {
    "scrolled": false
   },
   "outputs": [
    {
     "name": "stdout",
     "output_type": "stream",
     "text": [
      "\n",
      "R_eff:\n",
      "\n",
      "  Mean             SD               MC Error         95% HPD interval\n",
      "  -------------------------------------------------------------------\n",
      "  \n",
      "  5.997            0.152            0.001            [5.711, 6.304]\n",
      "\n",
      "  Posterior quantiles:\n",
      "  2.5            25             50             75             97.5\n",
      "  |--------------|==============|==============|--------------|\n",
      "  \n",
      "  5.686          5.898          6.001          6.101          6.282\n",
      "\n",
      "\n",
      "I_t:\n",
      "\n",
      "  Mean             SD               MC Error         95% HPD interval\n",
      "  -------------------------------------------------------------------\n",
      "  \n",
      "  1.000            0.057            0.001            [0.890, 1.110]\n",
      "\n",
      "  Posterior quantiles:\n",
      "  2.5            25             50             75             97.5\n",
      "  |--------------|==============|==============|--------------|\n",
      "  \n",
      "  0.892          0.961          0.999          1.038          1.114\n",
      "\n",
      "\n",
      "I_1:\n",
      "\n",
      "  Mean             SD               MC Error         95% HPD interval\n",
      "  -------------------------------------------------------------------\n",
      "  \n",
      "  1.004            0.092            0.001            [0.834, 1.191]\n",
      "\n",
      "  Posterior quantiles:\n",
      "  2.5            25             50             75             97.5\n",
      "  |--------------|==============|==============|--------------|\n",
      "  \n",
      "  0.839          0.940          0.998          1.062          1.199\n",
      "\n",
      "\n",
      "I_2:\n",
      "\n",
      "  Mean             SD               MC Error         95% HPD interval\n",
      "  -------------------------------------------------------------------\n",
      "  \n",
      "  -0.003           0.051            0.000            [-0.107, 0.091]\n",
      "\n",
      "  Posterior quantiles:\n",
      "  2.5            25             50             75             97.5\n",
      "  |--------------|==============|==============|--------------|\n",
      "  \n",
      "  -0.117         -0.035         0.001          0.032          0.086\n",
      "\n"
     ]
    }
   ],
   "source": [
    "pm.summary(trace, varnames=('R_eff', 'I_t', 'I_1', 'I_2'))"
   ]
  },
  {
   "cell_type": "markdown",
   "metadata": {},
   "source": [
    "We also good visual diagnostics in terms of traceplots. The right side shows the draws, this should always look like hash, the left side is the Kernel Density Esimator of the output distribution. For this problem it should look pretty darn Normal. \n",
    "\n",
    "For both summary and traceplot, leavre off varnames to jst get them all..."
   ]
  },
  {
   "cell_type": "code",
   "execution_count": 51,
   "metadata": {},
   "outputs": [
    {
     "data": {
      "image/png": "[encoded data removed]",
      "text/plain": [
       "<matplotlib.figure.Figure at 0x11ec86ba8>"
      ]
     },
     "metadata": {},
     "output_type": "display_data"
    }
   ],
   "source": [
    "pm.traceplot(trace, combined=True, varnames=('R_eff', 'I_t'));"
   ]
  },
  {
   "cell_type": "markdown",
   "metadata": {},
   "source": [
    "# Now lets say that we made some measurments of R1 and we can use those to contrain things\n",
    "\n",
    "The model has to be a bit different to allow for the measurements. Also we will drop the bounded as while true it is kind of annoying to deal with, cannot observe things on a bounded distribution. "
   ]
  },
  {
   "cell_type": "code",
   "execution_count": 52,
   "metadata": {
    "scrolled": false
   },
   "outputs": [
    {
     "name": "stdout",
     "output_type": "stream",
     "text": [
      "Optimization terminated successfully.\n",
      "         Current function value: -9.451417\n",
      "         Iterations: 1\n",
      "         Function evaluations: 3\n",
      "         Gradient evaluations: 3\n"
     ]
    },
    {
     "name": "stderr",
     "output_type": "stream",
     "text": [
      "Auto-assigning NUTS sampler...\n",
      "Initializing NUTS using ADVI...\n",
      "Average Loss = 5.2557:   5%|▌         | 10283/200000 [00:03<01:10, 2682.81it/s]\n",
      "Convergence archived at 10400\n",
      "Interrupted at 10,400 [5%]: Average Loss = 98.946\n",
      "100%|██████████| 5500/5500 [00:17<00:00, 317.19it/s]\n"
     ]
    }
   ],
   "source": [
    "# setup the model \n",
    "\n",
    "# these are the values and precision of each\n",
    "Datasheets = {'R1':(6.0, 0.01), \n",
    "              'R2':(8.0, 0.01),\n",
    "              'R3':(4.0, 0.01),\n",
    "              'R4':(12.0, 0.05),\n",
    "              'V1':(6.0, 0.05),} # 5% on the 12V power supply\n",
    "\n",
    "measuremnts_R1 = [5.987, 5.987] # we measured it twice\n",
    "\n",
    "with pm.Model() as model:\n",
    "    # http://docs.pymc.io/api/distributions/continuous.html#pymc3.distributions.continuous.Normal\n",
    "    # in Bayes world these are considered prior distributions, they are based on previous information\n",
    "    #   that is gained in some other manner, from the datasheet in this case. \n",
    "    #    R1 = pm.Normal('R1', mu=Datasheets['R1'][0], sd=Datasheets['R1'][0]*Datasheets['R1'][1])\n",
    "    R2 = pm.Normal('R2', mu=Datasheets['R2'][0], sd=Datasheets['R2'][0]*Datasheets['R2'][1])\n",
    "    R3 = pm.Normal('R3', mu=Datasheets['R3'][0], sd=Datasheets['R3'][0]*Datasheets['R3'][1])\n",
    "    R4 = pm.Normal('R4', mu=Datasheets['R4'][0], sd=Datasheets['R4'][0]*Datasheets['R4'][1])\n",
    "    # don't bound the voltage as negative is possilbe\n",
    "    V1 = pm.Normal('V1', mu=Datasheets['V1'][0], sd=Datasheets['V1'][0]*Datasheets['V1'][1])\n",
    "\n",
    "    # so on R1 we took some measurments and so have to build it a bit differently\n",
    "    # use the datasheet for prior\n",
    "    R1_mean = pm.Normal('R1_mean', mu=Datasheets['R1'][0], sd=Datasheets['R1'][0]*Datasheets['R1'][1])\n",
    "    R1 = pm.Normal('R1', mu=R1_mean, sd=Datasheets['R1'][0]*Datasheets['R1'][1], observed=measuremnts_R1)\n",
    "    \n",
    "    \n",
    "    # Match should all be done on paper first to get the full answer, but we will do steps here because one can.\n",
    "    #   all at once would be much faster.\n",
    "    \n",
    "    # just add them, we will not get info on R2_3 at the output unless we wrap them in pm.Deterministic\n",
    "    R2_3 = R2+R3\n",
    "    #   R2_3 = pm.Deterministic('R2_3', R2+R3) \n",
    "    \n",
    "    # now get the resistance answer, and we want details\n",
    "    R_eff = pm.Deterministic('R_eff', 1/(1/R2_3 + 1/R4))\n",
    "    \n",
    "    # total current is then just I=V/R\n",
    "    I_t = pm.Deterministic('I_t', V1/R_eff)\n",
    "    # and I_1 and I_2\n",
    "    I_1 = pm.Deterministic('I_1', I_t*R2_3/R4)\n",
    "    I_2 = pm.Deterministic('I_2', I_t-I_1)\n",
    "    \n",
    "    # makes it all a bit clearner to start in a good place\n",
    "    start = pm.find_MAP()\n",
    "    # run a fair number of samples, I have a 8 core machine so run 6\n",
    "    trace = pm.sample(5000, start=start, njobs=6)"
   ]
  },
  {
   "cell_type": "code",
   "execution_count": 53,
   "metadata": {},
   "outputs": [
    {
     "name": "stdout",
     "output_type": "stream",
     "text": [
      "\n",
      "R_eff:\n",
      "\n",
      "  Mean             SD               MC Error         95% HPD interval\n",
      "  -------------------------------------------------------------------\n",
      "  \n",
      "  5.997            0.154            0.001            [5.690, 6.290]\n",
      "\n",
      "  Posterior quantiles:\n",
      "  2.5            25             50             75             97.5\n",
      "  |--------------|==============|==============|--------------|\n",
      "  \n",
      "  5.685          5.895          6.001          6.103          6.287\n",
      "\n",
      "\n",
      "I_t:\n",
      "\n",
      "  Mean             SD               MC Error         95% HPD interval\n",
      "  -------------------------------------------------------------------\n",
      "  \n",
      "  1.001            0.056            0.000            [0.892, 1.112]\n",
      "\n",
      "  Posterior quantiles:\n",
      "  2.5            25             50             75             97.5\n",
      "  |--------------|==============|==============|--------------|\n",
      "  \n",
      "  0.893          0.962          0.999          1.038          1.114\n",
      "\n",
      "\n",
      "I_1:\n",
      "\n",
      "  Mean             SD               MC Error         95% HPD interval\n",
      "  -------------------------------------------------------------------\n",
      "  \n",
      "  1.004            0.092            0.001            [0.835, 1.191]\n",
      "\n",
      "  Posterior quantiles:\n",
      "  2.5            25             50             75             97.5\n",
      "  |--------------|==============|==============|--------------|\n",
      "  \n",
      "  0.841          0.939          0.998          1.063          1.200\n",
      "\n",
      "\n",
      "I_2:\n",
      "\n",
      "  Mean             SD               MC Error         95% HPD interval\n",
      "  -------------------------------------------------------------------\n",
      "  \n",
      "  -0.003           0.052            0.000            [-0.110, 0.092]\n",
      "\n",
      "  Posterior quantiles:\n",
      "  2.5            25             50             75             97.5\n",
      "  |--------------|==============|==============|--------------|\n",
      "  \n",
      "  -0.116         -0.036         0.001          0.034          0.088\n",
      "\n"
     ]
    }
   ],
   "source": [
    "pm.summary(trace, varnames=('R_eff', 'I_t', 'I_1', 'I_2'))"
   ]
  },
  {
   "cell_type": "code",
   "execution_count": 54,
   "metadata": {},
   "outputs": [
    {
     "data": {
      "image/png": "[encoded data removed]",
      "text/plain": [
       "<matplotlib.figure.Figure at 0x125308a90>"
      ]
     },
     "metadata": {},
     "output_type": "display_data"
    }
   ],
   "source": [
    "pm.traceplot(trace, combined=True, varnames=('R_eff', 'I_t'));"
   ]
  },
  {
   "cell_type": "markdown",
   "metadata": {},
   "source": [
    "## Results \n",
    "So while not a huge difference a single measurment of R1 changed the results:\n",
    "\n",
    "$R_{eff} = [5.705, 6.302]$ became $R_{eff} = [5.688, 6.282]$\n",
    "\n",
    "$I_t = [0.892, 1.113]$ became $I_t = [0.891, 1.110]$\n",
    "\n",
    "A not huge difference but a shift down. \n",
    "\n"
   ]
  },
  {
   "cell_type": "code",
   "execution_count": 55,
   "metadata": {
    "scrolled": false
   },
   "outputs": [
    {
     "name": "stdout",
     "output_type": "stream",
     "text": [
      "I_t = 1.001 +/- 0.1134\n",
      "I_t = 1.001 +/- 11.33%\n"
     ]
    }
   ],
   "source": [
    "I_t_perc = np.percentile(trace['I_t'], (2.5, 97.5))\n",
    "I_t_mean = trace['I_t'].mean()\n",
    "print('I_t = {:.4} +/- {:.4}'.format(I_t_mean, I_t_perc[1]-I_t_mean))\n",
    "print('I_t = {:.4} +/- {:.4}%'.format(I_t_mean, (I_t_perc[1]-I_t_mean)/I_t_mean*100))"
   ]
  },
  {
   "cell_type": "markdown",
   "metadata": {},
   "source": [
    "# How about we buy a better R4?\n",
    "Buy a 1% not a 5%\n",
    "\n",
    "rerun first model with the better resistor (different Bayesian Prior)"
   ]
  },
  {
   "cell_type": "code",
   "execution_count": 56,
   "metadata": {},
   "outputs": [
    {
     "name": "stdout",
     "output_type": "stream",
     "text": [
      "Optimization terminated successfully.\n",
      "         Current function value: -15.030161\n",
      "         Iterations: 2\n",
      "         Function evaluations: 4\n",
      "         Gradient evaluations: 4\n"
     ]
    },
    {
     "name": "stderr",
     "output_type": "stream",
     "text": [
      "Auto-assigning NUTS sampler...\n",
      "Initializing NUTS using ADVI...\n",
      "Average Loss = 277.01:   6%|▌         | 11131/200000 [00:04<01:11, 2634.68it/s]\n",
      "Convergence archived at 11300\n",
      "Interrupted at 11,300 [5%]: Average Loss = 3,782.6\n",
      "100%|██████████| 5500/5500 [00:22<00:00, 248.31it/s]\n"
     ]
    }
   ],
   "source": [
    "# setup the model \n",
    "\n",
    "# these are the values and precision of each\n",
    "Datasheets = {'R1':(6.0, 0.01), \n",
    "              'R2':(8.0, 0.01),\n",
    "              'R3':(4.0, 0.01),\n",
    "              'R4':(12.0, 0.01), # better resistor\n",
    "              'V1':(6.0, 0.05),} # 5% on the 12V power supply\n",
    "\n",
    "\n",
    "with pm.Model() as model:\n",
    "    BoundedNormal = pm.Bound(pm.Normal, lower=0.0)\n",
    "    # http://docs.pymc.io/api/distributions/continuous.html#pymc3.distributions.continuous.Normal\n",
    "    # in Bayes world these are considered prior distributions, they are based on previous information\n",
    "    #   that is gained in some other manner, from the datasheet in this case. \n",
    "    R1 = BoundedNormal('R1', mu=Datasheets['R1'][0], sd=Datasheets['R1'][0]*Datasheets['R1'][1])\n",
    "    R2 = BoundedNormal('R2', mu=Datasheets['R2'][0], sd=Datasheets['R2'][0]*Datasheets['R2'][1])\n",
    "    R3 = BoundedNormal('R3', mu=Datasheets['R3'][0], sd=Datasheets['R3'][0]*Datasheets['R3'][1])\n",
    "    R4 = BoundedNormal('R4', mu=Datasheets['R4'][0], sd=Datasheets['R4'][0]*Datasheets['R4'][1])\n",
    "    # don't bound the voltage as negative is possilbe\n",
    "    V1 = pm.Normal('V1', mu=Datasheets['V1'][0], sd=Datasheets['V1'][0]*Datasheets['V1'][1])\n",
    "    \n",
    "    # Match should all be done on paper first to get the full answer, but we will do steps here because one can.\n",
    "    #   all at once would be much faster.\n",
    "    \n",
    "    # just add them, we will not get info on R2_3 at the output unless we wrap them in pm.Deterministic\n",
    "    R2_3 = R2+R3\n",
    "    #   R2_3 = pm.Deterministic('R2_3', R2+R3) \n",
    "    \n",
    "    # now get the resistance answer, and we want details\n",
    "    R_eff = pm.Deterministic('R_eff', 1/(1/R2_3 + 1/R4))\n",
    "    \n",
    "    # total current is then just I=V/R\n",
    "    I_t = pm.Deterministic('I_t', V1/R_eff)\n",
    "    # and I_1 and I_2\n",
    "    I_1 = pm.Deterministic('I_1', I_t*R2_3/R4)\n",
    "    I_2 = pm.Deterministic('I_2', I_t-I_1)\n",
    "    \n",
    "    # makes it all a bit clearner to start in a good place\n",
    "    start = pm.find_MAP()\n",
    "    # run a fair number of samples, I have a 8 core machine so run 6\n",
    "    trace = pm.sample(5000, start=start, njobs=6)"
   ]
  },
  {
   "cell_type": "code",
   "execution_count": 57,
   "metadata": {},
   "outputs": [
    {
     "name": "stdout",
     "output_type": "stream",
     "text": [
      "I_t = 0.9998 +/- 0.09849\n",
      "I_t = 0.9998 +/- 9.852%\n"
     ]
    }
   ],
   "source": [
    "\n",
    "I_t_perc = np.percentile(trace['I_t'], (2.5, 97.5))\n",
    "I_t_mean = trace['I_t'].mean()\n",
    "print('I_t = {:.4} +/- {:.4}'.format(I_t_mean, I_t_perc[1]-I_t_mean))\n",
    "print('I_t = {:.4} +/- {:.4}%'.format(I_t_mean, (I_t_perc[1]-I_t_mean)/I_t_mean*100))"
   ]
  },
  {
   "cell_type": "markdown",
   "metadata": {},
   "source": [
    "The better resistor helped but are are dominated somewhere else... power supply!"
   ]
  },
  {
   "cell_type": "code",
   "execution_count": null,
   "metadata": {},
   "outputs": [],
   "source": []
  }
 ],
 "metadata": {
  "kernelspec": {
   "display_name": "Python 3",
   "language": "python",
   "name": "python3"
  },
  "language_info": {
   "codemirror_mode": {
    "name": "ipython",
    "version": 3
   },
   "file_extension": ".py",
   "mimetype": "text/x-python",
   "name": "python",
   "nbconvert_exporter": "python",
   "pygments_lexer": "ipython3",
   "version": "3.6.2"
  }
 },
 "nbformat": 4,
 "nbformat_minor": 2
}
